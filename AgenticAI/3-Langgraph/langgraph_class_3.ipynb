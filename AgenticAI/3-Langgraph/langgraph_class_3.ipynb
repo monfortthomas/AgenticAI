{
 "cells": [
  {
   "cell_type": "code",
   "execution_count": 1,
   "id": "e8992eee",
   "metadata": {},
   "outputs": [],
   "source": [
    "from dotenv import load_dotenv\n",
    "load_dotenv()\n",
    "import os\n",
    "os.environ['GROQ_API_KEY'] = os.getenv(\"GROQ_API_KEY\")"
   ]
  },
  {
   "cell_type": "code",
   "execution_count": 2,
   "id": "6a4b2a73",
   "metadata": {},
   "outputs": [],
   "source": [
    "model=\"deepseek-r1-distill-llama-70b\""
   ]
  },
  {
   "cell_type": "markdown",
   "id": "b0eafda6",
   "metadata": {},
   "source": [
    "### Load the model"
   ]
  },
  {
   "cell_type": "code",
   "execution_count": 3,
   "id": "280b33a5",
   "metadata": {},
   "outputs": [],
   "source": [
    "from langchain_groq import ChatGroq\n"
   ]
  },
  {
   "cell_type": "code",
   "execution_count": 4,
   "id": "cebb4f9c",
   "metadata": {},
   "outputs": [],
   "source": [
    "llm=ChatGroq(model_name=model)"
   ]
  },
  {
   "cell_type": "code",
   "execution_count": 5,
   "id": "3305ace2",
   "metadata": {},
   "outputs": [
    {
     "data": {
      "text/plain": [
       "AIMessage(content='<think>\\n\\n</think>\\n\\nHello! How can I assist you today? 😊', additional_kwargs={}, response_metadata={'token_usage': {'completion_tokens': 16, 'prompt_tokens': 4, 'total_tokens': 20, 'completion_time': 0.092105386, 'prompt_time': 5.7909e-05, 'queue_time': 0.053231296, 'total_time': 0.092163295}, 'model_name': 'deepseek-r1-distill-llama-70b', 'system_fingerprint': 'fp_1bbe7845ec', 'finish_reason': 'stop', 'logprobs': None}, id='run--07b15efa-89a5-4841-a1c5-5f0c6a18d535-0', usage_metadata={'input_tokens': 4, 'output_tokens': 16, 'total_tokens': 20})"
      ]
     },
     "execution_count": 5,
     "metadata": {},
     "output_type": "execute_result"
    }
   ],
   "source": [
    "llm.invoke(\"hi\")"
   ]
  },
  {
   "cell_type": "code",
   "execution_count": 6,
   "id": "b78035fc",
   "metadata": {},
   "outputs": [
    {
     "name": "stdout",
     "output_type": "stream",
     "text": [
      "<think>\n",
      "\n",
      "</think>\n",
      "\n",
      "Hello! How can I assist you today? 😊\n"
     ]
    }
   ],
   "source": [
    "print(llm.invoke(\"hi\").content)"
   ]
  },
  {
   "cell_type": "code",
   "execution_count": 7,
   "id": "f457a8e1",
   "metadata": {},
   "outputs": [],
   "source": [
    "# import operator\n",
    "# from typing import List\n",
    "# from langgraph.graph.message import add_messages\n",
    "# from pydantic import BaseModel , Field\n",
    "# from typing import TypedDict, Annotated, Sequence\n",
    "# from langchain_core.messages import BaseMessage\n",
    "# from langchain_core.output_parsers import StrOutputParser\n",
    "# from langchain_core.prompts import ChatPromptTemplate, PromptTemplate\n",
    "\n",
    "from langchain_core.tools import tool\n",
    "from langchain_core.messages import HumanMessage, AIMessage\n",
    "from langgraph.graph import StateGraph,MessagesState,START,END\n",
    "from langgraph.prebuilt import ToolNode"
   ]
  },
  {
   "cell_type": "code",
   "execution_count": 8,
   "id": "6cd721a2",
   "metadata": {},
   "outputs": [],
   "source": [
    "def call_model(state: MessagesState):\n",
    "    messages = state['messages']\n",
    "    response = llm.invoke(messages)\n",
    "    return {\"messages\": [response]}"
   ]
  },
  {
   "cell_type": "code",
   "execution_count": 154,
   "id": "b42f0c9e",
   "metadata": {},
   "outputs": [],
   "source": [
    "# HumanMessage(\"hi how are you?\")"
   ]
  },
  {
   "cell_type": "code",
   "execution_count": 155,
   "id": "6cb3807f",
   "metadata": {},
   "outputs": [],
   "source": [
    "# HumanMessage([\"hi how are you?\"])"
   ]
  },
  {
   "cell_type": "markdown",
   "id": "b925060a",
   "metadata": {},
   "source": [
    "### this code is only for the testing"
   ]
  },
  {
   "cell_type": "code",
   "execution_count": 9,
   "id": "5961c4d7",
   "metadata": {},
   "outputs": [
    {
     "data": {
      "text/plain": [
       "{'messages': [AIMessage(content=\"<think>\\n\\n</think>\\n\\nHi! Hello! I'm just a virtual assistant, so I don't have feelings, but I'm here and ready to help you with whatever you need. How are you doing? 😊\", additional_kwargs={}, response_metadata={'token_usage': {'completion_tokens': 44, 'prompt_tokens': 9, 'total_tokens': 53, 'completion_time': 0.208632472, 'prompt_time': 0.000213146, 'queue_time': 0.052667989000000005, 'total_time': 0.208845618}, 'model_name': 'deepseek-r1-distill-llama-70b', 'system_fingerprint': 'fp_1bbe7845ec', 'finish_reason': 'stop', 'logprobs': None}, id='run--04592678-127e-446e-8a54-ed4548dd50f8-0', usage_metadata={'input_tokens': 9, 'output_tokens': 44, 'total_tokens': 53})]}"
      ]
     },
     "execution_count": 9,
     "metadata": {},
     "output_type": "execute_result"
    }
   ],
   "source": [
    "\n",
    "state={\"messages\":[\"hi hello how are you?\"]}\n",
    "call_model(state)"
   ]
  },
  {
   "cell_type": "code",
   "execution_count": null,
   "id": "827f94e6",
   "metadata": {},
   "outputs": [],
   "source": [
    "# from langchain_core.messages import AnyMessage\n",
    "# # class MessagesState(TypedDict):\n",
    "# #     messages: Annotated[list[AnyMessage], add_messages]\n",
    "\n",
    "\n",
    "# class AgentState(TypedDict):\n",
    "#     messages: Annotated[Sequence[BaseMessage], operator.add]"
   ]
  },
  {
   "cell_type": "markdown",
   "id": "485d7e24",
   "metadata": {},
   "source": [
    "## Design a simple workflow without tool calling/"
   ]
  },
  {
   "cell_type": "code",
   "execution_count": 10,
   "id": "82c153bb",
   "metadata": {},
   "outputs": [],
   "source": [
    "workflow=StateGraph(MessagesState)"
   ]
  },
  {
   "cell_type": "code",
   "execution_count": 11,
   "id": "2705aaad",
   "metadata": {},
   "outputs": [
    {
     "data": {
      "text/plain": [
       "<langgraph.graph.state.StateGraph at 0x1e9248c0400>"
      ]
     },
     "execution_count": 11,
     "metadata": {},
     "output_type": "execute_result"
    }
   ],
   "source": [
    "workflow.add_node(\"mybot\",call_model)"
   ]
  },
  {
   "cell_type": "code",
   "execution_count": 12,
   "id": "16ffd459",
   "metadata": {},
   "outputs": [
    {
     "data": {
      "text/plain": [
       "<langgraph.graph.state.StateGraph at 0x1e9248c0400>"
      ]
     },
     "execution_count": 12,
     "metadata": {},
     "output_type": "execute_result"
    }
   ],
   "source": [
    "workflow.add_edge(START,\"mybot\")"
   ]
  },
  {
   "cell_type": "code",
   "execution_count": 13,
   "id": "dac798b7",
   "metadata": {},
   "outputs": [
    {
     "data": {
      "text/plain": [
       "<langgraph.graph.state.StateGraph at 0x1e9248c0400>"
      ]
     },
     "execution_count": 13,
     "metadata": {},
     "output_type": "execute_result"
    }
   ],
   "source": [
    "workflow.add_edge(\"mybot\",END)"
   ]
  },
  {
   "cell_type": "code",
   "execution_count": 14,
   "id": "bed7c9dd",
   "metadata": {},
   "outputs": [],
   "source": [
    "app=workflow.compile()"
   ]
  },
  {
   "cell_type": "code",
   "execution_count": 15,
   "id": "e0f03670",
   "metadata": {},
   "outputs": [
    {
     "data": {
      "image/png": "[encoded data removed]",
      "text/plain": [
       "<IPython.core.display.Image object>"
      ]
     },
     "metadata": {},
     "output_type": "display_data"
    }
   ],
   "source": [
    "from IPython.display import Image, display\n",
    "display(Image(app.get_graph().draw_mermaid_png()))"
   ]
  },
  {
   "cell_type": "code",
   "execution_count": 16,
   "id": "488fde11",
   "metadata": {},
   "outputs": [],
   "source": [
    "input={\"messages\":[\"hi hello how are you?\"]}"
   ]
  },
  {
   "cell_type": "code",
   "execution_count": 17,
   "id": "3e74440c",
   "metadata": {},
   "outputs": [
    {
     "data": {
      "text/plain": [
       "{'messages': [HumanMessage(content='hi hello how are you?', additional_kwargs={}, response_metadata={}, id='86678c64-842b-4f45-8974-32043114645a'),\n",
       "  AIMessage(content=\"<think>\\n\\n</think>\\n\\nHello! I'm just a virtual assistant, so I don't have feelings, but I'm here and ready to help you with whatever you need. How are *you* doing? 😊\", additional_kwargs={}, response_metadata={'token_usage': {'completion_tokens': 44, 'prompt_tokens': 9, 'total_tokens': 53, 'completion_time': 0.202602115, 'prompt_time': 0.000210667, 'queue_time': 0.056612063000000004, 'total_time': 0.202812782}, 'model_name': 'deepseek-r1-distill-llama-70b', 'system_fingerprint': 'fp_1bbe7845ec', 'finish_reason': 'stop', 'logprobs': None}, id='run--4dcea7ba-3ceb-464a-bac1-839a6977b653-0', usage_metadata={'input_tokens': 9, 'output_tokens': 44, 'total_tokens': 53})]}"
      ]
     },
     "execution_count": 17,
     "metadata": {},
     "output_type": "execute_result"
    }
   ],
   "source": [
    "app.invoke(input)"
   ]
  },
  {
   "cell_type": "code",
   "execution_count": 18,
   "id": "2ec4f35f",
   "metadata": {},
   "outputs": [
    {
     "name": "stdout",
     "output_type": "stream",
     "text": [
      "Output from mybot Node\n",
      "_______\n",
      "{'messages': [AIMessage(content=\"<think>\\n\\n</think>\\n\\nHi! Hello! I'm just a virtual assistant, so I don't have feelings, but I'm here and ready to help you with whatever you need. How are you doing? 😊\", additional_kwargs={}, response_metadata={'token_usage': {'completion_tokens': 44, 'prompt_tokens': 9, 'total_tokens': 53, 'completion_time': 0.215421489, 'prompt_time': 0.000218917, 'queue_time': 0.056584193, 'total_time': 0.215640406}, 'model_name': 'deepseek-r1-distill-llama-70b', 'system_fingerprint': 'fp_1bbe7845ec', 'finish_reason': 'stop', 'logprobs': None}, id='run--7f7c97e9-9242-4379-a1d7-b5ff902de852-0', usage_metadata={'input_tokens': 9, 'output_tokens': 44, 'total_tokens': 53})]}\n",
      "\n",
      "\n"
     ]
    }
   ],
   "source": [
    "for output in app.stream(input):\n",
    "    for key,value in output.items():\n",
    "        print(f\"Output from {key} Node\")\n",
    "        print(\"_______\")\n",
    "        print(value)\n",
    "        print(\"\\n\")"
   ]
  },
  {
   "cell_type": "markdown",
   "id": "3d83c3d2",
   "metadata": {},
   "source": [
    "### this is a workflow with tool calling"
   ]
  },
  {
   "cell_type": "code",
   "execution_count": 19,
   "id": "8058064e",
   "metadata": {},
   "outputs": [],
   "source": [
    "@tool\n",
    "def search(query:str):\n",
    "    \"\"\"this is my custom tool for searching a weather\"\"\"\n",
    "    if \"delhi\" in query.lower():\n",
    "        return \"the temp is 45 degree and sunny\"\n",
    "    return \"the temp is 25 degree and cloudy\""
   ]
  },
  {
   "cell_type": "markdown",
   "id": "6d332141",
   "metadata": {},
   "source": [
    "## testing a tool"
   ]
  },
  {
   "cell_type": "code",
   "execution_count": 20,
   "id": "2fff1868",
   "metadata": {},
   "outputs": [
    {
     "data": {
      "text/plain": [
       "'the temp is 25 degree and cloudy'"
      ]
     },
     "execution_count": 20,
     "metadata": {},
     "output_type": "execute_result"
    }
   ],
   "source": [
    "search.invoke(\"what is a tempurature in kashmir?\")"
   ]
  },
  {
   "cell_type": "code",
   "execution_count": 21,
   "id": "1f3d8cc9",
   "metadata": {},
   "outputs": [
    {
     "data": {
      "text/plain": [
       "'the temp is 45 degree and sunny'"
      ]
     },
     "execution_count": 21,
     "metadata": {},
     "output_type": "execute_result"
    }
   ],
   "source": [
    "search.invoke(\"what is a tempurature in delhi?\")"
   ]
  },
  {
   "cell_type": "code",
   "execution_count": 22,
   "id": "1338f5f1",
   "metadata": {},
   "outputs": [
    {
     "data": {
      "text/plain": [
       "StructuredTool(name='search', description='this is my custom tool for searching a weather', args_schema=<class 'langchain_core.utils.pydantic.search'>, func=<function search at 0x000001E9245E6050>)"
      ]
     },
     "execution_count": 22,
     "metadata": {},
     "output_type": "execute_result"
    }
   ],
   "source": [
    "search"
   ]
  },
  {
   "cell_type": "code",
   "execution_count": 23,
   "id": "f006519b",
   "metadata": {},
   "outputs": [
    {
     "data": {
      "text/plain": [
       "AIMessage(content='<think>\\n\\n</think>\\n\\nAs of my last update in July 2024, I cannot provide real-time weather information. However, Delhi generally experiences a humid subtropical climate with the following seasons:\\n\\n- **Summer (March to June):** Extremely hot with temperatures often reaching 40°C (104°F) or more.\\n- **Monsoon (July to September):** Hot and humid with significant rainfall.\\n- **Winter (December to February):** Cool to cold with temperatures sometimes dropping to 5°C (41°F) or lower.\\n\\nFor the most current weather conditions in Delhi, I recommend checking a reliable weather service or app.', additional_kwargs={}, response_metadata={'token_usage': {'completion_tokens': 127, 'prompt_tokens': 11, 'total_tokens': 138, 'completion_time': 0.461818182, 'prompt_time': 0.000339565, 'queue_time': 0.059857905, 'total_time': 0.462157747}, 'model_name': 'deepseek-r1-distill-llama-70b', 'system_fingerprint': 'fp_1bbe7845ec', 'finish_reason': 'stop', 'logprobs': None}, id='run--09ebef97-13a5-4382-b058-9ce2c91422ef-0', usage_metadata={'input_tokens': 11, 'output_tokens': 127, 'total_tokens': 138})"
      ]
     },
     "execution_count": 23,
     "metadata": {},
     "output_type": "execute_result"
    }
   ],
   "source": [
    "llm.invoke(\"what is a weather in delhi?\")"
   ]
  },
  {
   "cell_type": "markdown",
   "id": "c54c1034",
   "metadata": {},
   "source": [
    "### Binding a tool to the LLM\n",
    "\n",
    "### Special Note: use some good for agentic workflow since opensource model might not give you the correct output"
   ]
  },
  {
   "cell_type": "code",
   "execution_count": 24,
   "id": "d7a2f5d5",
   "metadata": {},
   "outputs": [],
   "source": [
    "tools=[search]"
   ]
  },
  {
   "cell_type": "code",
   "execution_count": 25,
   "id": "ed46d32f",
   "metadata": {},
   "outputs": [],
   "source": [
    "llm_with_tool=llm.bind_tools(tools)"
   ]
  },
  {
   "cell_type": "markdown",
   "id": "253e0a60",
   "metadata": {},
   "source": [
    "### testig my llm_with_tool"
   ]
  },
  {
   "cell_type": "code",
   "execution_count": 26,
   "id": "76796e5f",
   "metadata": {},
   "outputs": [],
   "source": [
    "response=llm_with_tool.invoke(\"what is a weather is delhi?\")"
   ]
  },
  {
   "cell_type": "code",
   "execution_count": 27,
   "id": "69ad79a3",
   "metadata": {},
   "outputs": [
    {
     "data": {
      "text/plain": [
       "AIMessage(content='', additional_kwargs={'tool_calls': [{'id': 'qkfnprg1z', 'function': {'arguments': '{\"query\":\"weather in Delhi\"}', 'name': 'search'}, 'type': 'function'}]}, response_metadata={'token_usage': {'completion_tokens': 112, 'prompt_tokens': 133, 'total_tokens': 245, 'completion_time': 0.510956004, 'prompt_time': 0.008588678, 'queue_time': 0.056135561, 'total_time': 0.519544682}, 'model_name': 'deepseek-r1-distill-llama-70b', 'system_fingerprint': 'fp_1bbe7845ec', 'finish_reason': 'tool_calls', 'logprobs': None}, id='run--7fc7b9e4-e891-444a-a7ef-053997a7c8ac-0', tool_calls=[{'name': 'search', 'args': {'query': 'weather in Delhi'}, 'id': 'qkfnprg1z', 'type': 'tool_call'}], usage_metadata={'input_tokens': 133, 'output_tokens': 112, 'total_tokens': 245})"
      ]
     },
     "execution_count": 27,
     "metadata": {},
     "output_type": "execute_result"
    }
   ],
   "source": [
    "response"
   ]
  },
  {
   "cell_type": "code",
   "execution_count": 28,
   "id": "37319035",
   "metadata": {},
   "outputs": [
    {
     "data": {
      "text/plain": [
       "''"
      ]
     },
     "execution_count": 28,
     "metadata": {},
     "output_type": "execute_result"
    }
   ],
   "source": [
    "response.content"
   ]
  },
  {
   "cell_type": "code",
   "execution_count": 29,
   "id": "eca31a2f",
   "metadata": {},
   "outputs": [
    {
     "data": {
      "text/plain": [
       "[{'name': 'search',\n",
       "  'args': {'query': 'weather in Delhi'},\n",
       "  'id': 'qkfnprg1z',\n",
       "  'type': 'tool_call'}]"
      ]
     },
     "execution_count": 29,
     "metadata": {},
     "output_type": "execute_result"
    }
   ],
   "source": [
    "response.tool_calls"
   ]
  },
  {
   "cell_type": "code",
   "execution_count": 30,
   "id": "4afb5f8f",
   "metadata": {},
   "outputs": [],
   "source": [
    "def call_model(state:MessagesState):\n",
    "    question=state[\"messages\"]\n",
    "    response=llm_with_tool.invoke(question)\n",
    "    return {\"messages\":[response]}"
   ]
  },
  {
   "cell_type": "markdown",
   "id": "0558693a",
   "metadata": {},
   "source": [
    "### Testing code"
   ]
  },
  {
   "cell_type": "code",
   "execution_count": 31,
   "id": "301d9821",
   "metadata": {},
   "outputs": [],
   "source": [
    "input={\"messages\":[\"what is a weather in delhi?\"]}"
   ]
  },
  {
   "cell_type": "code",
   "execution_count": 32,
   "id": "a14897ff",
   "metadata": {},
   "outputs": [],
   "source": [
    "response=call_model(input)"
   ]
  },
  {
   "cell_type": "code",
   "execution_count": 33,
   "id": "f1b3db7e",
   "metadata": {},
   "outputs": [
    {
     "data": {
      "text/plain": [
       "''"
      ]
     },
     "execution_count": 33,
     "metadata": {},
     "output_type": "execute_result"
    }
   ],
   "source": [
    "response[\"messages\"][-1].content"
   ]
  },
  {
   "cell_type": "code",
   "execution_count": 34,
   "id": "7b85e7ec",
   "metadata": {},
   "outputs": [
    {
     "data": {
      "text/plain": [
       "[{'name': 'search',\n",
       "  'args': {'query': 'weather in Delhi'},\n",
       "  'id': 'vkkk4qwbg',\n",
       "  'type': 'tool_call'}]"
      ]
     },
     "execution_count": 34,
     "metadata": {},
     "output_type": "execute_result"
    }
   ],
   "source": [
    "response[\"messages\"][-1].tool_calls"
   ]
  },
  {
   "cell_type": "markdown",
   "id": "d156c111",
   "metadata": {},
   "source": [
    "### here my router function\n",
    "\n",
    "#### now whatever will come from call_model router funtion will redirect this to the appropriate tool"
   ]
  },
  {
   "cell_type": "code",
   "execution_count": 35,
   "id": "c7d8ec53",
   "metadata": {},
   "outputs": [],
   "source": [
    "def router_function(state:MessagesState):\n",
    "    message=state[\"messages\"]\n",
    "    last_message=message[-1]\n",
    "    if last_message.tool_calls:\n",
    "        return \"tools\"\n",
    "    return END\n",
    "    "
   ]
  },
  {
   "cell_type": "code",
   "execution_count": 36,
   "id": "b1c12586",
   "metadata": {},
   "outputs": [
    {
     "data": {
      "text/plain": [
       "[StructuredTool(name='search', description='this is my custom tool for searching a weather', args_schema=<class 'langchain_core.utils.pydantic.search'>, func=<function search at 0x000001E9245E6050>)]"
      ]
     },
     "execution_count": 36,
     "metadata": {},
     "output_type": "execute_result"
    }
   ],
   "source": [
    "tools"
   ]
  },
  {
   "cell_type": "code",
   "execution_count": 37,
   "id": "868ca7e0",
   "metadata": {},
   "outputs": [],
   "source": [
    "\n",
    "tool_node=ToolNode(tools)"
   ]
  },
  {
   "cell_type": "code",
   "execution_count": 38,
   "id": "ea3ef8c2",
   "metadata": {},
   "outputs": [
    {
     "data": {
      "text/plain": [
       "tools(tags=None, recurse=True, explode_args=False, func_accepts_config=True, func_accepts={'store': ('__pregel_store', None)}, tools_by_name={'search': StructuredTool(name='search', description='this is my custom tool for searching a weather', args_schema=<class 'langchain_core.utils.pydantic.search'>, func=<function search at 0x000001E9245E6050>)}, tool_to_state_args={'search': {}}, tool_to_store_arg={'search': None}, handle_tool_errors=True, messages_key='messages')"
      ]
     },
     "execution_count": 38,
     "metadata": {},
     "output_type": "execute_result"
    }
   ],
   "source": [
    "tool_node"
   ]
  },
  {
   "cell_type": "code",
   "execution_count": 39,
   "id": "4fb880fd",
   "metadata": {},
   "outputs": [],
   "source": [
    "workflow2=StateGraph(MessagesState)"
   ]
  },
  {
   "cell_type": "code",
   "execution_count": null,
   "id": "8b4025d9",
   "metadata": {},
   "outputs": [
    {
     "name": "stderr",
     "output_type": "stream",
     "text": [
      "Adding a node to a graph that has already been compiled. This will not be reflected in the compiled graph.\n"
     ]
    },
    {
     "ename": "ValueError",
     "evalue": "Node `mytools` already present.",
     "output_type": "error",
     "traceback": [
      "\u001b[1;31m---------------------------------------------------------------------------\u001b[0m",
      "\u001b[1;31mValueError\u001b[0m                                Traceback (most recent call last)",
      "Cell \u001b[1;32mIn[45], line 3\u001b[0m\n\u001b[0;32m      1\u001b[0m \u001b[38;5;66;03m#workflow2.add_node(\"llmwithtool\",call_model)\u001b[39;00m\n\u001b[1;32m----> 3\u001b[0m \u001b[43mworkflow2\u001b[49m\u001b[38;5;241;43m.\u001b[39;49m\u001b[43madd_node\u001b[49m\u001b[43m(\u001b[49m\u001b[38;5;124;43m\"\u001b[39;49m\u001b[38;5;124;43mmytools\u001b[39;49m\u001b[38;5;124;43m\"\u001b[39;49m\u001b[43m,\u001b[49m\u001b[43mtool_node\u001b[49m\u001b[43m)\u001b[49m\n\u001b[0;32m      5\u001b[0m workflow2\u001b[38;5;241m.\u001b[39madd_edge(START,\u001b[38;5;124m\"\u001b[39m\u001b[38;5;124mllmwithtool\u001b[39m\u001b[38;5;124m\"\u001b[39m)\n\u001b[0;32m      7\u001b[0m workflow2\u001b[38;5;241m.\u001b[39madd_conditional_edges(\u001b[38;5;124m\"\u001b[39m\u001b[38;5;124mllmwithtool\u001b[39m\u001b[38;5;124m\"\u001b[39m,\n\u001b[0;32m      8\u001b[0m                                 router_function,\n\u001b[0;32m      9\u001b[0m                                 {\u001b[38;5;124m\"\u001b[39m\u001b[38;5;124mtools\u001b[39m\u001b[38;5;124m\"\u001b[39m:\u001b[38;5;124m\"\u001b[39m\u001b[38;5;124mmytools\u001b[39m\u001b[38;5;124m\"\u001b[39m,\n\u001b[0;32m     10\u001b[0m                                  END:END})\n",
      "File \u001b[1;32mc:\\Monfort\\AgenticAI\\env\\lib\\site-packages\\langgraph\\graph\\state.py:375\u001b[0m, in \u001b[0;36mStateGraph.add_node\u001b[1;34m(self, node, action, defer, metadata, input, retry, cache_policy, destinations)\u001b[0m\n\u001b[0;32m    373\u001b[0m     \u001b[38;5;28;01mraise\u001b[39;00m \u001b[38;5;167;01mRuntimeError\u001b[39;00m\n\u001b[0;32m    374\u001b[0m \u001b[38;5;28;01mif\u001b[39;00m node \u001b[38;5;129;01min\u001b[39;00m \u001b[38;5;28mself\u001b[39m\u001b[38;5;241m.\u001b[39mnodes:\n\u001b[1;32m--> 375\u001b[0m     \u001b[38;5;28;01mraise\u001b[39;00m \u001b[38;5;167;01mValueError\u001b[39;00m(\u001b[38;5;124mf\u001b[39m\u001b[38;5;124m\"\u001b[39m\u001b[38;5;124mNode `\u001b[39m\u001b[38;5;132;01m{\u001b[39;00mnode\u001b[38;5;132;01m}\u001b[39;00m\u001b[38;5;124m` already present.\u001b[39m\u001b[38;5;124m\"\u001b[39m)\n\u001b[0;32m    376\u001b[0m \u001b[38;5;28;01mif\u001b[39;00m node \u001b[38;5;241m==\u001b[39m END \u001b[38;5;129;01mor\u001b[39;00m node \u001b[38;5;241m==\u001b[39m START:\n\u001b[0;32m    377\u001b[0m     \u001b[38;5;28;01mraise\u001b[39;00m \u001b[38;5;167;01mValueError\u001b[39;00m(\u001b[38;5;124mf\u001b[39m\u001b[38;5;124m\"\u001b[39m\u001b[38;5;124mNode `\u001b[39m\u001b[38;5;132;01m{\u001b[39;00mnode\u001b[38;5;132;01m}\u001b[39;00m\u001b[38;5;124m` is reserved.\u001b[39m\u001b[38;5;124m\"\u001b[39m)\n",
      "\u001b[1;31mValueError\u001b[0m: Node `mytools` already present."
     ]
    }
   ],
   "source": [
    "workflow2.add_node(\"llmwithtool\",call_model)\n",
    "\n",
    "workflow2.add_node(\"mytools\",tool_node)\n",
    "\n",
    "workflow2.add_edge(START,\"llmwithtool\")\n",
    "\n",
    "workflow2.add_conditional_edges(\"llmwithtool\",\n",
    "                                router_function,\n",
    "                                {\"tools\":\"mytools\",\n",
    "                                 END:END})"
   ]
  },
  {
   "cell_type": "code",
   "execution_count": 43,
   "id": "c76410e6",
   "metadata": {},
   "outputs": [],
   "source": [
    "app2=workflow2.compile()"
   ]
  },
  {
   "cell_type": "code",
   "execution_count": 44,
   "id": "433259dd",
   "metadata": {},
   "outputs": [
    {
     "data": {
      "image/png": "[encoded data removed]",
      "text/plain": [
       "<IPython.core.display.Image object>"
      ]
     },
     "metadata": {},
     "output_type": "display_data"
    }
   ],
   "source": [
    "from IPython.display import Image, display\n",
    "display(Image(app2.get_graph().draw_mermaid_png()))"
   ]
  },
  {
   "cell_type": "code",
   "execution_count": 46,
   "id": "05a5af7b",
   "metadata": {},
   "outputs": [],
   "source": [
    "response=app2.invoke({\"messages\":[\"what is a weather in bengraluru?\"]})"
   ]
  },
  {
   "cell_type": "code",
   "execution_count": 47,
   "id": "fda5dc62",
   "metadata": {},
   "outputs": [
    {
     "data": {
      "text/plain": [
       "'the temp is 25 degree and cloudy'"
      ]
     },
     "execution_count": 47,
     "metadata": {},
     "output_type": "execute_result"
    }
   ],
   "source": [
    "response[\"messages\"][-1].content"
   ]
  },
  {
   "cell_type": "code",
   "execution_count": 48,
   "id": "c8a1f943",
   "metadata": {},
   "outputs": [
    {
     "data": {
      "text/plain": [
       "{'messages': [HumanMessage(content='what is a weather in delhi?', additional_kwargs={}, response_metadata={}, id='aeb03042-6a0c-46e3-ad44-86b5502abbfe'),\n",
       "  AIMessage(content='', additional_kwargs={'tool_calls': [{'id': 'nb2tcwgxr', 'function': {'arguments': '{\"query\":\"weather in Delhi\"}', 'name': 'search'}, 'type': 'function'}]}, response_metadata={'token_usage': {'completion_tokens': 122, 'prompt_tokens': 133, 'total_tokens': 255, 'completion_time': 0.509784945, 'prompt_time': 0.016021787, 'queue_time': 0.05305813300000001, 'total_time': 0.525806732}, 'model_name': 'deepseek-r1-distill-llama-70b', 'system_fingerprint': 'fp_1bbe7845ec', 'finish_reason': 'tool_calls', 'logprobs': None}, id='run--95370728-40cb-4c18-ac0e-9b763ddcbe8f-0', tool_calls=[{'name': 'search', 'args': {'query': 'weather in Delhi'}, 'id': 'nb2tcwgxr', 'type': 'tool_call'}], usage_metadata={'input_tokens': 133, 'output_tokens': 122, 'total_tokens': 255}),\n",
       "  ToolMessage(content='the temp is 45 degree and sunny', name='search', id='e46e0ac3-74a8-46fb-b308-7c635ba9faa8', tool_call_id='nb2tcwgxr')]}"
      ]
     },
     "execution_count": 48,
     "metadata": {},
     "output_type": "execute_result"
    }
   ],
   "source": [
    "app2.invoke({\"messages\":[\"what is a weather in delhi?\"]})"
   ]
  },
  {
   "cell_type": "markdown",
   "id": "21d500c1",
   "metadata": {},
   "source": [
    "### use good resoning based model"
   ]
  },
  {
   "cell_type": "code",
   "execution_count": 49,
   "id": "4a593ca6",
   "metadata": {},
   "outputs": [
    {
     "data": {
      "text/plain": [
       "{'messages': [HumanMessage(content='hi how are you?', additional_kwargs={}, response_metadata={}, id='6306a281-22b9-44fd-93c8-34e7fb36c0d6'),\n",
       "  AIMessage(content=\"Hello! I'm just a computer program, so I don't have feelings, but I'm here and ready to help you with whatever you need. How can I assist you today?\", additional_kwargs={}, response_metadata={'token_usage': {'completion_tokens': 142, 'prompt_tokens': 130, 'total_tokens': 272, 'completion_time': 0.528214036, 'prompt_time': 0.014748647, 'queue_time': 0.053397787, 'total_time': 0.542962683}, 'model_name': 'deepseek-r1-distill-llama-70b', 'system_fingerprint': 'fp_1bbe7845ec', 'finish_reason': 'stop', 'logprobs': None}, id='run--f2ee6ac5-b45a-4124-8e4c-b31ae4d05bfd-0', usage_metadata={'input_tokens': 130, 'output_tokens': 142, 'total_tokens': 272})]}"
      ]
     },
     "execution_count": 49,
     "metadata": {},
     "output_type": "execute_result"
    }
   ],
   "source": [
    "app2.invoke({\"messages\":[\"hi how are you?\"]})"
   ]
  },
  {
   "cell_type": "code",
   "execution_count": 50,
   "id": "3ace245c",
   "metadata": {},
   "outputs": [
    {
     "name": "stderr",
     "output_type": "stream",
     "text": [
      "Adding an edge to a graph that has already been compiled. This will not be reflected in the compiled graph.\n"
     ]
    },
    {
     "data": {
      "text/plain": [
       "<langgraph.graph.state.StateGraph at 0x1e92498e740>"
      ]
     },
     "execution_count": 50,
     "metadata": {},
     "output_type": "execute_result"
    }
   ],
   "source": [
    "workflow2.add_edge(\"mytools\",\"llmwithtool\")"
   ]
  },
  {
   "cell_type": "code",
   "execution_count": 51,
   "id": "82591a82",
   "metadata": {},
   "outputs": [],
   "source": [
    "app3=workflow2.compile()"
   ]
  },
  {
   "cell_type": "code",
   "execution_count": 52,
   "id": "32144091",
   "metadata": {},
   "outputs": [
    {
     "data": {
      "image/png": "[encoded data removed]",
      "text/plain": [
       "<IPython.core.display.Image object>"
      ]
     },
     "metadata": {},
     "output_type": "display_data"
    }
   ],
   "source": [
    "from IPython.display import Image, display\n",
    "display(Image(app3.get_graph().draw_mermaid_png()))"
   ]
  },
  {
   "cell_type": "code",
   "execution_count": 53,
   "id": "858505f7",
   "metadata": {},
   "outputs": [
    {
     "name": "stdout",
     "output_type": "stream",
     "text": [
      "here is output from llmwithtool\n",
      "_______\n",
      "{'messages': [AIMessage(content='', additional_kwargs={'tool_calls': [{'id': 'k70q5yg6z', 'function': {'arguments': '{\"query\":\"weather in New Delhi\"}', 'name': 'search'}, 'type': 'function'}]}, response_metadata={'token_usage': {'completion_tokens': 99, 'prompt_tokens': 134, 'total_tokens': 233, 'completion_time': 0.452780084, 'prompt_time': 0.008574109, 'queue_time': 0.052149315, 'total_time': 0.461354193}, 'model_name': 'deepseek-r1-distill-llama-70b', 'system_fingerprint': 'fp_1bbe7845ec', 'finish_reason': 'tool_calls', 'logprobs': None}, id='run--3f6252f0-9850-4da0-8bf5-aca0e3999852-0', tool_calls=[{'name': 'search', 'args': {'query': 'weather in New Delhi'}, 'id': 'k70q5yg6z', 'type': 'tool_call'}], usage_metadata={'input_tokens': 134, 'output_tokens': 99, 'total_tokens': 233})]}\n",
      "\n",
      "\n",
      "here is output from mytools\n",
      "_______\n",
      "{'messages': [ToolMessage(content='the temp is 45 degree and sunny', name='search', id='029a2f4c-e3f9-415f-86af-928fdee1ed99', tool_call_id='k70q5yg6z')]}\n",
      "\n",
      "\n",
      "here is output from llmwithtool\n",
      "_______\n",
      "{'messages': [AIMessage(content='The weather in New Delhi is sunny with a temperature of 45 degrees. 🌞', additional_kwargs={}, response_metadata={'token_usage': {'completion_tokens': 152, 'prompt_tokens': 194, 'total_tokens': 346, 'completion_time': 0.674369539, 'prompt_time': 0.011960512, 'queue_time': 0.053477798, 'total_time': 0.686330051}, 'model_name': 'deepseek-r1-distill-llama-70b', 'system_fingerprint': 'fp_1bbe7845ec', 'finish_reason': 'stop', 'logprobs': None}, id='run--a7d00ec0-afa1-4fdf-9ef8-8c07a2d4a428-0', usage_metadata={'input_tokens': 194, 'output_tokens': 152, 'total_tokens': 346})]}\n",
      "\n",
      "\n"
     ]
    }
   ],
   "source": [
    "for output in app3.stream({\"messages\":[\"what is a weather in new delhi?\"]}):\n",
    "    for key,value in output.items():\n",
    "        print(f\"here is output from {key}\")\n",
    "        print(\"_______\")\n",
    "        print(value)\n",
    "        print(\"\\n\")\n",
    "    "
   ]
  },
  {
   "cell_type": "code",
   "execution_count": 54,
   "id": "e3f1b5c9",
   "metadata": {},
   "outputs": [
    {
     "data": {
      "text/plain": [
       "'what is a weather in delhi can you tell me some good hotel for staying in north delhi'"
      ]
     },
     "execution_count": 54,
     "metadata": {},
     "output_type": "execute_result"
    }
   ],
   "source": [
    "\"what is a weather in delhi can you tell me some good hotel for staying in north delhi\""
   ]
  },
  {
   "cell_type": "code",
   "execution_count": 55,
   "id": "63f8398b",
   "metadata": {},
   "outputs": [],
   "source": [
    "from langgraph.checkpoint.memory import MemorySaver"
   ]
  },
  {
   "cell_type": "code",
   "execution_count": 56,
   "id": "44970651",
   "metadata": {},
   "outputs": [],
   "source": [
    "memory=MemorySaver()"
   ]
  },
  {
   "cell_type": "code",
   "execution_count": 57,
   "id": "2f842b10",
   "metadata": {},
   "outputs": [
    {
     "data": {
      "text/plain": [
       "<langgraph.graph.state.StateGraph at 0x1e925e76b30>"
      ]
     },
     "execution_count": 57,
     "metadata": {},
     "output_type": "execute_result"
    }
   ],
   "source": [
    "workflow3=StateGraph(MessagesState)\n",
    "\n",
    "workflow3.add_node(\"llmwithtool\",call_model)\n",
    "\n",
    "workflow3.add_node(\"mytools\",tool_node)\n",
    "\n",
    "workflow3.add_edge(START,\"llmwithtool\")\n",
    "\n",
    "workflow3.add_conditional_edges(\"llmwithtool\",\n",
    "                                router_function,\n",
    "                                {\"tools\":\"mytools\",\n",
    "                                 END:END})\n",
    "\n",
    "workflow3.add_edge(\"mytools\",\"llmwithtool\")"
   ]
  },
  {
   "cell_type": "code",
   "execution_count": 58,
   "id": "f193b793",
   "metadata": {},
   "outputs": [],
   "source": [
    "app4=workflow3.compile(checkpointer=memory)"
   ]
  },
  {
   "cell_type": "code",
   "execution_count": 59,
   "id": "4c500b65",
   "metadata": {},
   "outputs": [
    {
     "data": {
      "image/png": "[encoded data removed]",
      "text/plain": [
       "<IPython.core.display.Image object>"
      ]
     },
     "metadata": {},
     "output_type": "display_data"
    }
   ],
   "source": [
    "from IPython.display import Image, display\n",
    "display(Image(app4.get_graph().draw_mermaid_png()))"
   ]
  },
  {
   "cell_type": "code",
   "execution_count": 60,
   "id": "17b132f5",
   "metadata": {},
   "outputs": [],
   "source": [
    "config={\"configurable\": {\"thread_id\": \"1\"}}"
   ]
  },
  {
   "cell_type": "code",
   "execution_count": 61,
   "id": "37b704fd",
   "metadata": {},
   "outputs": [],
   "source": [
    "events=app4.stream(\n",
    "    {\"messages\":[\"what is a weather in new delhi?\"]},config=config,stream_mode=\"values\"\n",
    "    )"
   ]
  },
  {
   "cell_type": "code",
   "execution_count": 62,
   "id": "0fdd14a4",
   "metadata": {},
   "outputs": [
    {
     "name": "stdout",
     "output_type": "stream",
     "text": [
      "================================\u001b[1m Human Message \u001b[0m=================================\n",
      "\n",
      "what is a weather in new delhi?\n",
      "==================================\u001b[1m Ai Message \u001b[0m==================================\n",
      "Tool Calls:\n",
      "  search (r7j9ftvj4)\n",
      " Call ID: r7j9ftvj4\n",
      "  Args:\n",
      "    query: New Delhi weather\n",
      "=================================\u001b[1m Tool Message \u001b[0m=================================\n",
      "Name: search\n",
      "\n",
      "the temp is 45 degree and sunny\n",
      "==================================\u001b[1m Ai Message \u001b[0m==================================\n",
      "\n",
      "The weather in New Delhi is currently 45 degrees and sunny. It seems quite hot! Make sure to stay hydrated and wear light, breathable clothing if you're planning to be outdoors.\n"
     ]
    }
   ],
   "source": [
    "for event in events:\n",
    "    event[\"messages\"][-1].pretty_print()\n",
    "    "
   ]
  },
  {
   "cell_type": "code",
   "execution_count": null,
   "id": "2738142c",
   "metadata": {},
   "outputs": [],
   "source": [
    "events=app4.stream(\n",
    "    {\"messages\":[\"what is a weather in indore?\"]},config=config,stream_mode=\"values\"\n",
    "    )"
   ]
  },
  {
   "cell_type": "code",
   "execution_count": 64,
   "id": "72809b70",
   "metadata": {},
   "outputs": [
    {
     "name": "stdout",
     "output_type": "stream",
     "text": [
      "================================\u001b[1m Human Message \u001b[0m=================================\n",
      "\n",
      "what is a weather in indore?\n",
      "==================================\u001b[1m Ai Message \u001b[0m==================================\n",
      "Tool Calls:\n",
      "  search (h417zhpx9)\n",
      " Call ID: h417zhpx9\n",
      "  Args:\n",
      "    query: Indore weather\n",
      "=================================\u001b[1m Tool Message \u001b[0m=================================\n",
      "Name: search\n",
      "\n",
      "the temp is 25 degree and cloudy\n",
      "==================================\u001b[1m Ai Message \u001b[0m==================================\n",
      "Tool Calls:\n",
      "  search (jmevy8w5f)\n",
      " Call ID: jmevy8w5f\n",
      "  Args:\n",
      "    query: Indore weather\n",
      "=================================\u001b[1m Tool Message \u001b[0m=================================\n",
      "Name: search\n",
      "\n",
      "the temp is 25 degree and cloudy\n",
      "==================================\u001b[1m Ai Message \u001b[0m==================================\n",
      "Tool Calls:\n",
      "  search (ef2782av5)\n",
      " Call ID: ef2782av5\n",
      "  Args:\n",
      "    query: Indore weather\n",
      "=================================\u001b[1m Tool Message \u001b[0m=================================\n",
      "Name: search\n",
      "\n",
      "the temp is 25 degree and cloudy\n",
      "==================================\u001b[1m Ai Message \u001b[0m==================================\n",
      "Tool Calls:\n",
      "  search (hd4992x03)\n",
      " Call ID: hd4992x03\n",
      "  Args:\n",
      "    query: Indore weather\n",
      "=================================\u001b[1m Tool Message \u001b[0m=================================\n",
      "Name: search\n",
      "\n",
      "the temp is 25 degree and cloudy\n",
      "==================================\u001b[1m Ai Message \u001b[0m==================================\n",
      "Tool Calls:\n",
      "  search (fpaxm8v8a)\n",
      " Call ID: fpaxm8v8a\n",
      "  Args:\n",
      "    query: Indore weather\n",
      "=================================\u001b[1m Tool Message \u001b[0m=================================\n",
      "Name: search\n",
      "\n",
      "the temp is 25 degree and cloudy\n",
      "==================================\u001b[1m Ai Message \u001b[0m==================================\n",
      "Tool Calls:\n",
      "  search (4a89bzrzc)\n",
      " Call ID: 4a89bzrzc\n",
      "  Args:\n",
      "    query: Indore weather\n",
      "=================================\u001b[1m Tool Message \u001b[0m=================================\n",
      "Name: search\n",
      "\n",
      "the temp is 25 degree and cloudy\n",
      "==================================\u001b[1m Ai Message \u001b[0m==================================\n",
      "Tool Calls:\n",
      "  search (at89pcfhq)\n",
      " Call ID: at89pcfhq\n",
      "  Args:\n",
      "    query: Indore weather\n",
      "=================================\u001b[1m Tool Message \u001b[0m=================================\n",
      "Name: search\n",
      "\n",
      "the temp is 25 degree and cloudy\n",
      "==================================\u001b[1m Ai Message \u001b[0m==================================\n",
      "Tool Calls:\n",
      "  search (qk6nks5wm)\n",
      " Call ID: qk6nks5wm\n",
      "  Args:\n",
      "    query: Indore weather\n",
      "=================================\u001b[1m Tool Message \u001b[0m=================================\n",
      "Name: search\n",
      "\n",
      "the temp is 25 degree and cloudy\n",
      "==================================\u001b[1m Ai Message \u001b[0m==================================\n",
      "Tool Calls:\n",
      "  search (sd3m9bt72)\n",
      " Call ID: sd3m9bt72\n",
      "  Args:\n",
      "    query: Indore weather\n",
      "=================================\u001b[1m Tool Message \u001b[0m=================================\n",
      "Name: search\n",
      "\n",
      "the temp is 25 degree and cloudy\n",
      "==================================\u001b[1m Ai Message \u001b[0m==================================\n",
      "Tool Calls:\n",
      "  search (pg5xa3sre)\n",
      " Call ID: pg5xa3sre\n",
      "  Args:\n",
      "    query: Indore weather\n",
      "=================================\u001b[1m Tool Message \u001b[0m=================================\n",
      "Name: search\n",
      "\n",
      "the temp is 25 degree and cloudy\n",
      "==================================\u001b[1m Ai Message \u001b[0m==================================\n",
      "Tool Calls:\n",
      "  search (byk3q31tm)\n",
      " Call ID: byk3q31tm\n",
      "  Args:\n",
      "    query: Indore weather\n",
      "=================================\u001b[1m Tool Message \u001b[0m=================================\n",
      "Name: search\n",
      "\n",
      "the temp is 25 degree and cloudy\n",
      "==================================\u001b[1m Ai Message \u001b[0m==================================\n",
      "Tool Calls:\n",
      "  search (enzd157b1)\n",
      " Call ID: enzd157b1\n",
      "  Args:\n",
      "    query: Indore weather\n",
      "=================================\u001b[1m Tool Message \u001b[0m=================================\n",
      "Name: search\n",
      "\n",
      "the temp is 25 degree and cloudy\n",
      "==================================\u001b[1m Ai Message \u001b[0m==================================\n",
      "Tool Calls:\n",
      "  search (19cxrbxt2)\n",
      " Call ID: 19cxrbxt2\n",
      "  Args:\n",
      "    query: Indore weather\n"
     ]
    },
    {
     "ename": "GraphRecursionError",
     "evalue": "Recursion limit of 25 reached without hitting a stop condition. You can increase the limit by setting the `recursion_limit` config key.\nFor troubleshooting, visit: https://python.langchain.com/docs/troubleshooting/errors/GRAPH_RECURSION_LIMIT",
     "output_type": "error",
     "traceback": [
      "\u001b[1;31m---------------------------------------------------------------------------\u001b[0m",
      "\u001b[1;31mGraphRecursionError\u001b[0m                       Traceback (most recent call last)",
      "Cell \u001b[1;32mIn[64], line 1\u001b[0m\n\u001b[1;32m----> 1\u001b[0m \u001b[38;5;28;01mfor\u001b[39;00m event \u001b[38;5;129;01min\u001b[39;00m events:\n\u001b[0;32m      2\u001b[0m     event[\u001b[38;5;124m\"\u001b[39m\u001b[38;5;124mmessages\u001b[39m\u001b[38;5;124m\"\u001b[39m][\u001b[38;5;241m-\u001b[39m\u001b[38;5;241m1\u001b[39m]\u001b[38;5;241m.\u001b[39mpretty_print()\n",
      "File \u001b[1;32mc:\\Monfort\\AgenticAI\\env\\lib\\site-packages\\langgraph\\pregel\\__init__.py:2456\u001b[0m, in \u001b[0;36mPregel.stream\u001b[1;34m(self, input, config, stream_mode, output_keys, interrupt_before, interrupt_after, checkpoint_during, debug, subgraphs)\u001b[0m\n\u001b[0;32m   2447\u001b[0m \u001b[38;5;28;01mif\u001b[39;00m loop\u001b[38;5;241m.\u001b[39mstatus \u001b[38;5;241m==\u001b[39m \u001b[38;5;124m\"\u001b[39m\u001b[38;5;124mout_of_steps\u001b[39m\u001b[38;5;124m\"\u001b[39m:\n\u001b[0;32m   2448\u001b[0m     msg \u001b[38;5;241m=\u001b[39m create_error_message(\n\u001b[0;32m   2449\u001b[0m         message\u001b[38;5;241m=\u001b[39m(\n\u001b[0;32m   2450\u001b[0m             \u001b[38;5;124mf\u001b[39m\u001b[38;5;124m\"\u001b[39m\u001b[38;5;124mRecursion limit of \u001b[39m\u001b[38;5;132;01m{\u001b[39;00mconfig[\u001b[38;5;124m'\u001b[39m\u001b[38;5;124mrecursion_limit\u001b[39m\u001b[38;5;124m'\u001b[39m]\u001b[38;5;132;01m}\u001b[39;00m\u001b[38;5;124m reached \u001b[39m\u001b[38;5;124m\"\u001b[39m\n\u001b[1;32m   (...)\u001b[0m\n\u001b[0;32m   2454\u001b[0m         error_code\u001b[38;5;241m=\u001b[39mErrorCode\u001b[38;5;241m.\u001b[39mGRAPH_RECURSION_LIMIT,\n\u001b[0;32m   2455\u001b[0m     )\n\u001b[1;32m-> 2456\u001b[0m     \u001b[38;5;28;01mraise\u001b[39;00m GraphRecursionError(msg)\n\u001b[0;32m   2457\u001b[0m \u001b[38;5;66;03m# set final channel values as run output\u001b[39;00m\n\u001b[0;32m   2458\u001b[0m run_manager\u001b[38;5;241m.\u001b[39mon_chain_end(loop\u001b[38;5;241m.\u001b[39moutput)\n",
      "\u001b[1;31mGraphRecursionError\u001b[0m: Recursion limit of 25 reached without hitting a stop condition. You can increase the limit by setting the `recursion_limit` config key.\nFor troubleshooting, visit: https://python.langchain.com/docs/troubleshooting/errors/GRAPH_RECURSION_LIMIT"
     ]
    }
   ],
   "source": [
    "for event in events:\n",
    "    event[\"messages\"][-1].pretty_print()"
   ]
  },
  {
   "cell_type": "code",
   "execution_count": 65,
   "id": "1bdc1865",
   "metadata": {},
   "outputs": [
    {
     "data": {
      "text/plain": [
       "{'configurable': {'thread_id': '1'}}"
      ]
     },
     "execution_count": 65,
     "metadata": {},
     "output_type": "execute_result"
    }
   ],
   "source": [
    "config"
   ]
  },
  {
   "cell_type": "code",
   "execution_count": 66,
   "id": "b76be85b",
   "metadata": {},
   "outputs": [
    {
     "data": {
      "text/plain": [
       "{'v': 3,\n",
       " 'ts': '2025-06-14T06:20:07.002141+00:00',\n",
       " 'id': '1f048e79-dc45-6924-801e-b1236584e2cf',\n",
       " 'channel_versions': {'__start__': '00000000000000000000000000000007.0.24415111456950656',\n",
       "  'messages': '00000000000000000000000000000032.0.010309496663555406',\n",
       "  'branch:to:llmwithtool': '00000000000000000000000000000032.0.17815128147541703',\n",
       "  'branch:to:mytools': '00000000000000000000000000000032.0.34925484739987134'},\n",
       " 'versions_seen': {'__input__': {},\n",
       "  '__start__': {'__start__': '00000000000000000000000000000006.0.6219538624860984'},\n",
       "  'llmwithtool': {'branch:to:llmwithtool': '00000000000000000000000000000031.0.3007382465139846'},\n",
       "  'mytools': {'branch:to:mytools': '00000000000000000000000000000030.0.5640115552226159'}},\n",
       " 'channel_values': {'messages': [HumanMessage(content='what is a weather in new delhi?', additional_kwargs={}, response_metadata={}, id='7f8e1ec4-5f9d-4356-a045-70ac0a304b7c'),\n",
       "   AIMessage(content='', additional_kwargs={'tool_calls': [{'id': 'r7j9ftvj4', 'function': {'arguments': '{\"query\":\"New Delhi weather\"}', 'name': 'search'}, 'type': 'function'}]}, response_metadata={'token_usage': {'completion_tokens': 107, 'prompt_tokens': 134, 'total_tokens': 241, 'completion_time': 0.44818862, 'prompt_time': 0.008578928, 'queue_time': 0.058307762, 'total_time': 0.456767548}, 'model_name': 'deepseek-r1-distill-llama-70b', 'system_fingerprint': 'fp_1bbe7845ec', 'finish_reason': 'tool_calls', 'logprobs': None}, id='run--cff37a75-e290-4b46-b4ef-d4f3eda4642d-0', tool_calls=[{'name': 'search', 'args': {'query': 'New Delhi weather'}, 'id': 'r7j9ftvj4', 'type': 'tool_call'}], usage_metadata={'input_tokens': 134, 'output_tokens': 107, 'total_tokens': 241}),\n",
       "   ToolMessage(content='the temp is 45 degree and sunny', name='search', id='edb3880a-a50c-4865-8798-f4334c10b531', tool_call_id='r7j9ftvj4'),\n",
       "   AIMessage(content=\"The weather in New Delhi is currently 45 degrees and sunny. It seems quite hot! Make sure to stay hydrated and wear light, breathable clothing if you're planning to be outdoors.\", additional_kwargs={}, response_metadata={'token_usage': {'completion_tokens': 247, 'prompt_tokens': 193, 'total_tokens': 440, 'completion_time': 1.196687395, 'prompt_time': 0.013398729, 'queue_time': 0.052403624999999995, 'total_time': 1.210086124}, 'model_name': 'deepseek-r1-distill-llama-70b', 'system_fingerprint': 'fp_1bbe7845ec', 'finish_reason': 'stop', 'logprobs': None}, id='run--b116273f-e6bd-4d26-8862-81633fc07f11-0', usage_metadata={'input_tokens': 193, 'output_tokens': 247, 'total_tokens': 440}),\n",
       "   HumanMessage(content='what is a weather in indore?', additional_kwargs={}, response_metadata={}, id='3da0dc10-0964-4e7c-bce0-68ad25ae0656'),\n",
       "   AIMessage(content='', additional_kwargs={'tool_calls': [{'id': 'h417zhpx9', 'function': {'arguments': '{\"query\":\"Indore weather\"}', 'name': 'search'}, 'type': 'function'}]}, response_metadata={'token_usage': {'completion_tokens': 91, 'prompt_tokens': 204, 'total_tokens': 295, 'completion_time': 0.404486146, 'prompt_time': 0.013325109, 'queue_time': 0.053637281999999994, 'total_time': 0.417811255}, 'model_name': 'deepseek-r1-distill-llama-70b', 'system_fingerprint': 'fp_1bbe7845ec', 'finish_reason': 'tool_calls', 'logprobs': None}, id='run--33342184-e771-4ee9-b344-e4feff7c1e3e-0', tool_calls=[{'name': 'search', 'args': {'query': 'Indore weather'}, 'id': 'h417zhpx9', 'type': 'tool_call'}], usage_metadata={'input_tokens': 204, 'output_tokens': 91, 'total_tokens': 295}),\n",
       "   ToolMessage(content='the temp is 25 degree and cloudy', name='search', id='df6bbf01-a3cd-470b-9674-2e8779d09b87', tool_call_id='h417zhpx9'),\n",
       "   AIMessage(content='', additional_kwargs={'tool_calls': [{'id': 'jmevy8w5f', 'function': {'arguments': '{\"query\":\"Indore weather\"}', 'name': 'search'}, 'type': 'function'}]}, response_metadata={'token_usage': {'completion_tokens': 194, 'prompt_tokens': 261, 'total_tokens': 455, 'completion_time': 0.866482748, 'prompt_time': 0.017183795, 'queue_time': 0.05880521799999999, 'total_time': 0.883666543}, 'model_name': 'deepseek-r1-distill-llama-70b', 'system_fingerprint': 'fp_1bbe7845ec', 'finish_reason': 'tool_calls', 'logprobs': None}, id='run--b6df404b-8fa3-4ef2-a64f-c84729ecadd0-0', tool_calls=[{'name': 'search', 'args': {'query': 'Indore weather'}, 'id': 'jmevy8w5f', 'type': 'tool_call'}], usage_metadata={'input_tokens': 261, 'output_tokens': 194, 'total_tokens': 455}),\n",
       "   ToolMessage(content='the temp is 25 degree and cloudy', name='search', id='3fdee8c5-96b0-48a2-a19f-804db8728b86', tool_call_id='jmevy8w5f'),\n",
       "   AIMessage(content='', additional_kwargs={'tool_calls': [{'id': 'ef2782av5', 'function': {'arguments': '{\"query\":\"Indore weather\"}', 'name': 'search'}, 'type': 'function'}]}, response_metadata={'token_usage': {'completion_tokens': 274, 'prompt_tokens': 320, 'total_tokens': 594, 'completion_time': 1.284580426, 'prompt_time': 0.022472797, 'queue_time': 0.052479736, 'total_time': 1.307053223}, 'model_name': 'deepseek-r1-distill-llama-70b', 'system_fingerprint': 'fp_1bbe7845ec', 'finish_reason': 'tool_calls', 'logprobs': None}, id='run--cb85ad53-20b5-416e-b7de-347246f97a44-0', tool_calls=[{'name': 'search', 'args': {'query': 'Indore weather'}, 'id': 'ef2782av5', 'type': 'tool_call'}], usage_metadata={'input_tokens': 320, 'output_tokens': 274, 'total_tokens': 594}),\n",
       "   ToolMessage(content='the temp is 25 degree and cloudy', name='search', id='4e83070c-2d32-4c31-9b4d-31bf0b0903e1', tool_call_id='ef2782av5'),\n",
       "   AIMessage(content='', additional_kwargs={'tool_calls': [{'id': 'hd4992x03', 'function': {'arguments': '{\"query\":\"Indore weather\"}', 'name': 'search'}, 'type': 'function'}]}, response_metadata={'token_usage': {'completion_tokens': 224, 'prompt_tokens': 377, 'total_tokens': 601, 'completion_time': 1.171833362, 'prompt_time': 0.031271191, 'queue_time': 0.058143221, 'total_time': 1.203104553}, 'model_name': 'deepseek-r1-distill-llama-70b', 'system_fingerprint': 'fp_1bbe7845ec', 'finish_reason': 'tool_calls', 'logprobs': None}, id='run--ed394c80-5c88-43cc-96d8-678259559fcc-0', tool_calls=[{'name': 'search', 'args': {'query': 'Indore weather'}, 'id': 'hd4992x03', 'type': 'tool_call'}], usage_metadata={'input_tokens': 377, 'output_tokens': 224, 'total_tokens': 601}),\n",
       "   ToolMessage(content='the temp is 25 degree and cloudy', name='search', id='5af13d6d-4094-4785-a4a9-6c623a4abea8', tool_call_id='hd4992x03'),\n",
       "   AIMessage(content='', additional_kwargs={'tool_calls': [{'id': 'fpaxm8v8a', 'function': {'arguments': '{\"query\":\"Indore weather\"}', 'name': 'search'}, 'type': 'function'}]}, response_metadata={'token_usage': {'completion_tokens': 8192, 'prompt_tokens': 434, 'total_tokens': 8626, 'completion_time': 29.789090909, 'prompt_time': 0.034405629, 'queue_time': 0.057696911999999996, 'total_time': 29.823496538}, 'model_name': 'deepseek-r1-distill-llama-70b', 'system_fingerprint': 'fp_1bbe7845ec', 'finish_reason': 'tool_calls', 'logprobs': None}, id='run--16fb61b4-f054-49bb-8879-fc10be7f967f-0', tool_calls=[{'name': 'search', 'args': {'query': 'Indore weather'}, 'id': 'fpaxm8v8a', 'type': 'tool_call'}], usage_metadata={'input_tokens': 434, 'output_tokens': 8192, 'total_tokens': 8626}),\n",
       "   ToolMessage(content='the temp is 25 degree and cloudy', name='search', id='abceb468-ca9c-4c7b-832c-b4a6a369b3f9', tool_call_id='fpaxm8v8a'),\n",
       "   AIMessage(content='', additional_kwargs={'tool_calls': [{'id': '4a89bzrzc', 'function': {'arguments': '{\"query\":\"Indore weather\"}', 'name': 'search'}, 'type': 'function'}]}, response_metadata={'token_usage': {'completion_tokens': 60, 'prompt_tokens': 493, 'total_tokens': 553, 'completion_time': 0.218181818, 'prompt_time': 0.03245807, 'queue_time': 0.057419932, 'total_time': 0.250639888}, 'model_name': 'deepseek-r1-distill-llama-70b', 'system_fingerprint': 'fp_1bbe7845ec', 'finish_reason': 'tool_calls', 'logprobs': None}, id='run--5ff1d6a0-dbcc-4084-90ad-28ebbe973cf5-0', tool_calls=[{'name': 'search', 'args': {'query': 'Indore weather'}, 'id': '4a89bzrzc', 'type': 'tool_call'}], usage_metadata={'input_tokens': 493, 'output_tokens': 60, 'total_tokens': 553}),\n",
       "   ToolMessage(content='the temp is 25 degree and cloudy', name='search', id='fde0bcc7-d91e-48cf-9a8b-b30025e2b976', tool_call_id='4a89bzrzc'),\n",
       "   AIMessage(content='', additional_kwargs={'tool_calls': [{'id': 'at89pcfhq', 'function': {'arguments': '{\"query\":\"Indore weather\"}', 'name': 'search'}, 'type': 'function'}]}, response_metadata={'token_usage': {'completion_tokens': 56, 'prompt_tokens': 551, 'total_tokens': 607, 'completion_time': 0.268090605, 'prompt_time': 0.035813105, 'queue_time': 0.056638655999999996, 'total_time': 0.30390371}, 'model_name': 'deepseek-r1-distill-llama-70b', 'system_fingerprint': 'fp_1bbe7845ec', 'finish_reason': 'tool_calls', 'logprobs': None}, id='run--cceef5d4-d0dc-41da-9dae-77750095e8e4-0', tool_calls=[{'name': 'search', 'args': {'query': 'Indore weather'}, 'id': 'at89pcfhq', 'type': 'tool_call'}], usage_metadata={'input_tokens': 551, 'output_tokens': 56, 'total_tokens': 607}),\n",
       "   ToolMessage(content='the temp is 25 degree and cloudy', name='search', id='a0d743ec-f0be-4004-80ab-d9732e1f92f8', tool_call_id='at89pcfhq'),\n",
       "   AIMessage(content='', additional_kwargs={'tool_calls': [{'id': 'qk6nks5wm', 'function': {'arguments': '{\"query\":\"Indore weather\"}', 'name': 'search'}, 'type': 'function'}]}, response_metadata={'token_usage': {'completion_tokens': 46, 'prompt_tokens': 608, 'total_tokens': 654, 'completion_time': 0.201532021, 'prompt_time': 0.046396199, 'queue_time': 0.053249212000000004, 'total_time': 0.24792822}, 'model_name': 'deepseek-r1-distill-llama-70b', 'system_fingerprint': 'fp_1bbe7845ec', 'finish_reason': 'tool_calls', 'logprobs': None}, id='run--95d8c994-fdcd-4922-bb1b-00d9d69fe65b-0', tool_calls=[{'name': 'search', 'args': {'query': 'Indore weather'}, 'id': 'qk6nks5wm', 'type': 'tool_call'}], usage_metadata={'input_tokens': 608, 'output_tokens': 46, 'total_tokens': 654}),\n",
       "   ToolMessage(content='the temp is 25 degree and cloudy', name='search', id='323202b1-f231-431d-b336-9f53a16291e2', tool_call_id='qk6nks5wm'),\n",
       "   AIMessage(content='', additional_kwargs={'tool_calls': [{'id': 'sd3m9bt72', 'function': {'arguments': '{\"query\":\"Indore weather\"}', 'name': 'search'}, 'type': 'function'}]}, response_metadata={'token_usage': {'completion_tokens': 107, 'prompt_tokens': 667, 'total_tokens': 774, 'completion_time': 0.599643915, 'prompt_time': 0.044475361, 'queue_time': 0.05324581900000001, 'total_time': 0.644119276}, 'model_name': 'deepseek-r1-distill-llama-70b', 'system_fingerprint': 'fp_1bbe7845ec', 'finish_reason': 'tool_calls', 'logprobs': None}, id='run--8caa3db0-18f1-4d17-a4e1-8e1cc34b70d8-0', tool_calls=[{'name': 'search', 'args': {'query': 'Indore weather'}, 'id': 'sd3m9bt72', 'type': 'tool_call'}], usage_metadata={'input_tokens': 667, 'output_tokens': 107, 'total_tokens': 774}),\n",
       "   ToolMessage(content='the temp is 25 degree and cloudy', name='search', id='0761b10f-fcc4-4478-a850-6866d80c32bc', tool_call_id='sd3m9bt72'),\n",
       "   AIMessage(content='', additional_kwargs={'tool_calls': [{'id': 'pg5xa3sre', 'function': {'arguments': '{\"query\":\"Indore weather\"}', 'name': 'search'}, 'type': 'function'}]}, response_metadata={'token_usage': {'completion_tokens': 66, 'prompt_tokens': 725, 'total_tokens': 791, 'completion_time': 0.263004789, 'prompt_time': 0.047388743, 'queue_time': 0.058230407, 'total_time': 0.310393532}, 'model_name': 'deepseek-r1-distill-llama-70b', 'system_fingerprint': 'fp_1bbe7845ec', 'finish_reason': 'tool_calls', 'logprobs': None}, id='run--f22f8649-d261-4c54-aade-3b3e809256b2-0', tool_calls=[{'name': 'search', 'args': {'query': 'Indore weather'}, 'id': 'pg5xa3sre', 'type': 'tool_call'}], usage_metadata={'input_tokens': 725, 'output_tokens': 66, 'total_tokens': 791}),\n",
       "   ToolMessage(content='the temp is 25 degree and cloudy', name='search', id='b79a4d2e-d160-472c-b481-0aa80c132056', tool_call_id='pg5xa3sre'),\n",
       "   AIMessage(content='', additional_kwargs={'tool_calls': [{'id': 'byk3q31tm', 'function': {'arguments': '{\"query\":\"Indore weather\"}', 'name': 'search'}, 'type': 'function'}]}, response_metadata={'token_usage': {'completion_tokens': 8192, 'prompt_tokens': 783, 'total_tokens': 8975, 'completion_time': 29.789090909, 'prompt_time': 0.057445696, 'queue_time': 0.053869694, 'total_time': 29.846536605}, 'model_name': 'deepseek-r1-distill-llama-70b', 'system_fingerprint': 'fp_1bbe7845ec', 'finish_reason': 'tool_calls', 'logprobs': None}, id='run--2512cd87-53c8-4287-a73a-6e9c6ce71735-0', tool_calls=[{'name': 'search', 'args': {'query': 'Indore weather'}, 'id': 'byk3q31tm', 'type': 'tool_call'}], usage_metadata={'input_tokens': 783, 'output_tokens': 8192, 'total_tokens': 8975}),\n",
       "   ToolMessage(content='the temp is 25 degree and cloudy', name='search', id='3c78dbb6-1a1f-4f0f-a6ef-334d5668ddf3', tool_call_id='byk3q31tm'),\n",
       "   AIMessage(content='', additional_kwargs={'tool_calls': [{'id': 'enzd157b1', 'function': {'arguments': '{\"query\":\"Indore weather\"}', 'name': 'search'}, 'type': 'function'}]}, response_metadata={'token_usage': {'completion_tokens': 58, 'prompt_tokens': 841, 'total_tokens': 899, 'completion_time': 0.210909091, 'prompt_time': 0.061800961, 'queue_time': 0.057168439, 'total_time': 0.272710052}, 'model_name': 'deepseek-r1-distill-llama-70b', 'system_fingerprint': 'fp_1bbe7845ec', 'finish_reason': 'tool_calls', 'logprobs': None}, id='run--ee0ab46a-ca06-4b1c-81fe-9e62cfa1d026-0', tool_calls=[{'name': 'search', 'args': {'query': 'Indore weather'}, 'id': 'enzd157b1', 'type': 'tool_call'}], usage_metadata={'input_tokens': 841, 'output_tokens': 58, 'total_tokens': 899}),\n",
       "   ToolMessage(content='the temp is 25 degree and cloudy', name='search', id='8a6983df-e6ed-4a26-9797-ba2f7cded512', tool_call_id='enzd157b1'),\n",
       "   AIMessage(content='', additional_kwargs={'tool_calls': [{'id': '19cxrbxt2', 'function': {'arguments': '{\"query\":\"Indore weather\"}', 'name': 'search'}, 'type': 'function'}]}, response_metadata={'token_usage': {'completion_tokens': 8192, 'prompt_tokens': 898, 'total_tokens': 9090, 'completion_time': 29.789090909, 'prompt_time': 0.065963171, 'queue_time': 0.054219676999999994, 'total_time': 29.85505408}, 'model_name': 'deepseek-r1-distill-llama-70b', 'system_fingerprint': 'fp_1bbe7845ec', 'finish_reason': 'tool_calls', 'logprobs': None}, id='run--e4d8e740-d66b-442e-86ef-e8a1ee774ca8-0', tool_calls=[{'name': 'search', 'args': {'query': 'Indore weather'}, 'id': '19cxrbxt2', 'type': 'tool_call'}], usage_metadata={'input_tokens': 898, 'output_tokens': 8192, 'total_tokens': 9090})],\n",
       "  'branch:to:mytools': None},\n",
       " 'pending_sends': []}"
      ]
     },
     "execution_count": 66,
     "metadata": {},
     "output_type": "execute_result"
    }
   ],
   "source": [
    "memory.get(config)"
   ]
  },
  {
   "cell_type": "code",
   "execution_count": 67,
   "id": "0e36fcf2",
   "metadata": {},
   "outputs": [],
   "source": [
    "events=app4.stream(\n",
    "    {\"messages\":[\"in which city the temp was 25 degree?\"]},config=config,stream_mode=\"values\"\n",
    "    )"
   ]
  },
  {
   "cell_type": "code",
   "execution_count": 68,
   "id": "01a189a5",
   "metadata": {},
   "outputs": [
    {
     "name": "stdout",
     "output_type": "stream",
     "text": [
      "================================\u001b[1m Human Message \u001b[0m=================================\n",
      "\n",
      "in which city the temp was 25 degree?\n",
      "==================================\u001b[1m Ai Message \u001b[0m==================================\n",
      "\n",
      "The temperature was 25 degrees in **Indore**.\n"
     ]
    }
   ],
   "source": [
    "for event in events:\n",
    "    event[\"messages\"][-1].pretty_print()"
   ]
  },
  {
   "cell_type": "code",
   "execution_count": 69,
   "id": "c69e8480",
   "metadata": {},
   "outputs": [
    {
     "data": {
      "text/plain": [
       "{'v': 3,\n",
       " 'ts': '2025-06-14T06:23:46.831930+00:00',\n",
       " 'id': '1f048e82-0cbb-664c-8021-5d7a72adece6',\n",
       " 'channel_versions': {'__start__': '00000000000000000000000000000034.0.023803232505675065',\n",
       "  'messages': '00000000000000000000000000000035.0.4376194600932828',\n",
       "  'branch:to:llmwithtool': '00000000000000000000000000000035.0.08714212289637824',\n",
       "  'branch:to:mytools': '00000000000000000000000000000033.0.45976789541299645'},\n",
       " 'versions_seen': {'__input__': {},\n",
       "  '__start__': {'__start__': '00000000000000000000000000000033.0.3220800869652145'},\n",
       "  'llmwithtool': {'branch:to:llmwithtool': '00000000000000000000000000000034.0.835340961680419'},\n",
       "  'mytools': {'branch:to:mytools': '00000000000000000000000000000032.0.34925484739987134'}},\n",
       " 'channel_values': {'messages': [HumanMessage(content='what is a weather in new delhi?', additional_kwargs={}, response_metadata={}, id='7f8e1ec4-5f9d-4356-a045-70ac0a304b7c'),\n",
       "   AIMessage(content='', additional_kwargs={'tool_calls': [{'id': 'r7j9ftvj4', 'function': {'arguments': '{\"query\":\"New Delhi weather\"}', 'name': 'search'}, 'type': 'function'}]}, response_metadata={'token_usage': {'completion_tokens': 107, 'prompt_tokens': 134, 'total_tokens': 241, 'completion_time': 0.44818862, 'prompt_time': 0.008578928, 'queue_time': 0.058307762, 'total_time': 0.456767548}, 'model_name': 'deepseek-r1-distill-llama-70b', 'system_fingerprint': 'fp_1bbe7845ec', 'finish_reason': 'tool_calls', 'logprobs': None}, id='run--cff37a75-e290-4b46-b4ef-d4f3eda4642d-0', tool_calls=[{'name': 'search', 'args': {'query': 'New Delhi weather'}, 'id': 'r7j9ftvj4', 'type': 'tool_call'}], usage_metadata={'input_tokens': 134, 'output_tokens': 107, 'total_tokens': 241}),\n",
       "   ToolMessage(content='the temp is 45 degree and sunny', name='search', id='edb3880a-a50c-4865-8798-f4334c10b531', tool_call_id='r7j9ftvj4'),\n",
       "   AIMessage(content=\"The weather in New Delhi is currently 45 degrees and sunny. It seems quite hot! Make sure to stay hydrated and wear light, breathable clothing if you're planning to be outdoors.\", additional_kwargs={}, response_metadata={'token_usage': {'completion_tokens': 247, 'prompt_tokens': 193, 'total_tokens': 440, 'completion_time': 1.196687395, 'prompt_time': 0.013398729, 'queue_time': 0.052403624999999995, 'total_time': 1.210086124}, 'model_name': 'deepseek-r1-distill-llama-70b', 'system_fingerprint': 'fp_1bbe7845ec', 'finish_reason': 'stop', 'logprobs': None}, id='run--b116273f-e6bd-4d26-8862-81633fc07f11-0', usage_metadata={'input_tokens': 193, 'output_tokens': 247, 'total_tokens': 440}),\n",
       "   HumanMessage(content='what is a weather in indore?', additional_kwargs={}, response_metadata={}, id='3da0dc10-0964-4e7c-bce0-68ad25ae0656'),\n",
       "   AIMessage(content='', additional_kwargs={'tool_calls': [{'id': 'h417zhpx9', 'function': {'arguments': '{\"query\":\"Indore weather\"}', 'name': 'search'}, 'type': 'function'}]}, response_metadata={'token_usage': {'completion_tokens': 91, 'prompt_tokens': 204, 'total_tokens': 295, 'completion_time': 0.404486146, 'prompt_time': 0.013325109, 'queue_time': 0.053637281999999994, 'total_time': 0.417811255}, 'model_name': 'deepseek-r1-distill-llama-70b', 'system_fingerprint': 'fp_1bbe7845ec', 'finish_reason': 'tool_calls', 'logprobs': None}, id='run--33342184-e771-4ee9-b344-e4feff7c1e3e-0', tool_calls=[{'name': 'search', 'args': {'query': 'Indore weather'}, 'id': 'h417zhpx9', 'type': 'tool_call'}], usage_metadata={'input_tokens': 204, 'output_tokens': 91, 'total_tokens': 295}),\n",
       "   ToolMessage(content='the temp is 25 degree and cloudy', name='search', id='df6bbf01-a3cd-470b-9674-2e8779d09b87', tool_call_id='h417zhpx9'),\n",
       "   AIMessage(content='', additional_kwargs={'tool_calls': [{'id': 'jmevy8w5f', 'function': {'arguments': '{\"query\":\"Indore weather\"}', 'name': 'search'}, 'type': 'function'}]}, response_metadata={'token_usage': {'completion_tokens': 194, 'prompt_tokens': 261, 'total_tokens': 455, 'completion_time': 0.866482748, 'prompt_time': 0.017183795, 'queue_time': 0.05880521799999999, 'total_time': 0.883666543}, 'model_name': 'deepseek-r1-distill-llama-70b', 'system_fingerprint': 'fp_1bbe7845ec', 'finish_reason': 'tool_calls', 'logprobs': None}, id='run--b6df404b-8fa3-4ef2-a64f-c84729ecadd0-0', tool_calls=[{'name': 'search', 'args': {'query': 'Indore weather'}, 'id': 'jmevy8w5f', 'type': 'tool_call'}], usage_metadata={'input_tokens': 261, 'output_tokens': 194, 'total_tokens': 455}),\n",
       "   ToolMessage(content='the temp is 25 degree and cloudy', name='search', id='3fdee8c5-96b0-48a2-a19f-804db8728b86', tool_call_id='jmevy8w5f'),\n",
       "   AIMessage(content='', additional_kwargs={'tool_calls': [{'id': 'ef2782av5', 'function': {'arguments': '{\"query\":\"Indore weather\"}', 'name': 'search'}, 'type': 'function'}]}, response_metadata={'token_usage': {'completion_tokens': 274, 'prompt_tokens': 320, 'total_tokens': 594, 'completion_time': 1.284580426, 'prompt_time': 0.022472797, 'queue_time': 0.052479736, 'total_time': 1.307053223}, 'model_name': 'deepseek-r1-distill-llama-70b', 'system_fingerprint': 'fp_1bbe7845ec', 'finish_reason': 'tool_calls', 'logprobs': None}, id='run--cb85ad53-20b5-416e-b7de-347246f97a44-0', tool_calls=[{'name': 'search', 'args': {'query': 'Indore weather'}, 'id': 'ef2782av5', 'type': 'tool_call'}], usage_metadata={'input_tokens': 320, 'output_tokens': 274, 'total_tokens': 594}),\n",
       "   ToolMessage(content='the temp is 25 degree and cloudy', name='search', id='4e83070c-2d32-4c31-9b4d-31bf0b0903e1', tool_call_id='ef2782av5'),\n",
       "   AIMessage(content='', additional_kwargs={'tool_calls': [{'id': 'hd4992x03', 'function': {'arguments': '{\"query\":\"Indore weather\"}', 'name': 'search'}, 'type': 'function'}]}, response_metadata={'token_usage': {'completion_tokens': 224, 'prompt_tokens': 377, 'total_tokens': 601, 'completion_time': 1.171833362, 'prompt_time': 0.031271191, 'queue_time': 0.058143221, 'total_time': 1.203104553}, 'model_name': 'deepseek-r1-distill-llama-70b', 'system_fingerprint': 'fp_1bbe7845ec', 'finish_reason': 'tool_calls', 'logprobs': None}, id='run--ed394c80-5c88-43cc-96d8-678259559fcc-0', tool_calls=[{'name': 'search', 'args': {'query': 'Indore weather'}, 'id': 'hd4992x03', 'type': 'tool_call'}], usage_metadata={'input_tokens': 377, 'output_tokens': 224, 'total_tokens': 601}),\n",
       "   ToolMessage(content='the temp is 25 degree and cloudy', name='search', id='5af13d6d-4094-4785-a4a9-6c623a4abea8', tool_call_id='hd4992x03'),\n",
       "   AIMessage(content='', additional_kwargs={'tool_calls': [{'id': 'fpaxm8v8a', 'function': {'arguments': '{\"query\":\"Indore weather\"}', 'name': 'search'}, 'type': 'function'}]}, response_metadata={'token_usage': {'completion_tokens': 8192, 'prompt_tokens': 434, 'total_tokens': 8626, 'completion_time': 29.789090909, 'prompt_time': 0.034405629, 'queue_time': 0.057696911999999996, 'total_time': 29.823496538}, 'model_name': 'deepseek-r1-distill-llama-70b', 'system_fingerprint': 'fp_1bbe7845ec', 'finish_reason': 'tool_calls', 'logprobs': None}, id='run--16fb61b4-f054-49bb-8879-fc10be7f967f-0', tool_calls=[{'name': 'search', 'args': {'query': 'Indore weather'}, 'id': 'fpaxm8v8a', 'type': 'tool_call'}], usage_metadata={'input_tokens': 434, 'output_tokens': 8192, 'total_tokens': 8626}),\n",
       "   ToolMessage(content='the temp is 25 degree and cloudy', name='search', id='abceb468-ca9c-4c7b-832c-b4a6a369b3f9', tool_call_id='fpaxm8v8a'),\n",
       "   AIMessage(content='', additional_kwargs={'tool_calls': [{'id': '4a89bzrzc', 'function': {'arguments': '{\"query\":\"Indore weather\"}', 'name': 'search'}, 'type': 'function'}]}, response_metadata={'token_usage': {'completion_tokens': 60, 'prompt_tokens': 493, 'total_tokens': 553, 'completion_time': 0.218181818, 'prompt_time': 0.03245807, 'queue_time': 0.057419932, 'total_time': 0.250639888}, 'model_name': 'deepseek-r1-distill-llama-70b', 'system_fingerprint': 'fp_1bbe7845ec', 'finish_reason': 'tool_calls', 'logprobs': None}, id='run--5ff1d6a0-dbcc-4084-90ad-28ebbe973cf5-0', tool_calls=[{'name': 'search', 'args': {'query': 'Indore weather'}, 'id': '4a89bzrzc', 'type': 'tool_call'}], usage_metadata={'input_tokens': 493, 'output_tokens': 60, 'total_tokens': 553}),\n",
       "   ToolMessage(content='the temp is 25 degree and cloudy', name='search', id='fde0bcc7-d91e-48cf-9a8b-b30025e2b976', tool_call_id='4a89bzrzc'),\n",
       "   AIMessage(content='', additional_kwargs={'tool_calls': [{'id': 'at89pcfhq', 'function': {'arguments': '{\"query\":\"Indore weather\"}', 'name': 'search'}, 'type': 'function'}]}, response_metadata={'token_usage': {'completion_tokens': 56, 'prompt_tokens': 551, 'total_tokens': 607, 'completion_time': 0.268090605, 'prompt_time': 0.035813105, 'queue_time': 0.056638655999999996, 'total_time': 0.30390371}, 'model_name': 'deepseek-r1-distill-llama-70b', 'system_fingerprint': 'fp_1bbe7845ec', 'finish_reason': 'tool_calls', 'logprobs': None}, id='run--cceef5d4-d0dc-41da-9dae-77750095e8e4-0', tool_calls=[{'name': 'search', 'args': {'query': 'Indore weather'}, 'id': 'at89pcfhq', 'type': 'tool_call'}], usage_metadata={'input_tokens': 551, 'output_tokens': 56, 'total_tokens': 607}),\n",
       "   ToolMessage(content='the temp is 25 degree and cloudy', name='search', id='a0d743ec-f0be-4004-80ab-d9732e1f92f8', tool_call_id='at89pcfhq'),\n",
       "   AIMessage(content='', additional_kwargs={'tool_calls': [{'id': 'qk6nks5wm', 'function': {'arguments': '{\"query\":\"Indore weather\"}', 'name': 'search'}, 'type': 'function'}]}, response_metadata={'token_usage': {'completion_tokens': 46, 'prompt_tokens': 608, 'total_tokens': 654, 'completion_time': 0.201532021, 'prompt_time': 0.046396199, 'queue_time': 0.053249212000000004, 'total_time': 0.24792822}, 'model_name': 'deepseek-r1-distill-llama-70b', 'system_fingerprint': 'fp_1bbe7845ec', 'finish_reason': 'tool_calls', 'logprobs': None}, id='run--95d8c994-fdcd-4922-bb1b-00d9d69fe65b-0', tool_calls=[{'name': 'search', 'args': {'query': 'Indore weather'}, 'id': 'qk6nks5wm', 'type': 'tool_call'}], usage_metadata={'input_tokens': 608, 'output_tokens': 46, 'total_tokens': 654}),\n",
       "   ToolMessage(content='the temp is 25 degree and cloudy', name='search', id='323202b1-f231-431d-b336-9f53a16291e2', tool_call_id='qk6nks5wm'),\n",
       "   AIMessage(content='', additional_kwargs={'tool_calls': [{'id': 'sd3m9bt72', 'function': {'arguments': '{\"query\":\"Indore weather\"}', 'name': 'search'}, 'type': 'function'}]}, response_metadata={'token_usage': {'completion_tokens': 107, 'prompt_tokens': 667, 'total_tokens': 774, 'completion_time': 0.599643915, 'prompt_time': 0.044475361, 'queue_time': 0.05324581900000001, 'total_time': 0.644119276}, 'model_name': 'deepseek-r1-distill-llama-70b', 'system_fingerprint': 'fp_1bbe7845ec', 'finish_reason': 'tool_calls', 'logprobs': None}, id='run--8caa3db0-18f1-4d17-a4e1-8e1cc34b70d8-0', tool_calls=[{'name': 'search', 'args': {'query': 'Indore weather'}, 'id': 'sd3m9bt72', 'type': 'tool_call'}], usage_metadata={'input_tokens': 667, 'output_tokens': 107, 'total_tokens': 774}),\n",
       "   ToolMessage(content='the temp is 25 degree and cloudy', name='search', id='0761b10f-fcc4-4478-a850-6866d80c32bc', tool_call_id='sd3m9bt72'),\n",
       "   AIMessage(content='', additional_kwargs={'tool_calls': [{'id': 'pg5xa3sre', 'function': {'arguments': '{\"query\":\"Indore weather\"}', 'name': 'search'}, 'type': 'function'}]}, response_metadata={'token_usage': {'completion_tokens': 66, 'prompt_tokens': 725, 'total_tokens': 791, 'completion_time': 0.263004789, 'prompt_time': 0.047388743, 'queue_time': 0.058230407, 'total_time': 0.310393532}, 'model_name': 'deepseek-r1-distill-llama-70b', 'system_fingerprint': 'fp_1bbe7845ec', 'finish_reason': 'tool_calls', 'logprobs': None}, id='run--f22f8649-d261-4c54-aade-3b3e809256b2-0', tool_calls=[{'name': 'search', 'args': {'query': 'Indore weather'}, 'id': 'pg5xa3sre', 'type': 'tool_call'}], usage_metadata={'input_tokens': 725, 'output_tokens': 66, 'total_tokens': 791}),\n",
       "   ToolMessage(content='the temp is 25 degree and cloudy', name='search', id='b79a4d2e-d160-472c-b481-0aa80c132056', tool_call_id='pg5xa3sre'),\n",
       "   AIMessage(content='', additional_kwargs={'tool_calls': [{'id': 'byk3q31tm', 'function': {'arguments': '{\"query\":\"Indore weather\"}', 'name': 'search'}, 'type': 'function'}]}, response_metadata={'token_usage': {'completion_tokens': 8192, 'prompt_tokens': 783, 'total_tokens': 8975, 'completion_time': 29.789090909, 'prompt_time': 0.057445696, 'queue_time': 0.053869694, 'total_time': 29.846536605}, 'model_name': 'deepseek-r1-distill-llama-70b', 'system_fingerprint': 'fp_1bbe7845ec', 'finish_reason': 'tool_calls', 'logprobs': None}, id='run--2512cd87-53c8-4287-a73a-6e9c6ce71735-0', tool_calls=[{'name': 'search', 'args': {'query': 'Indore weather'}, 'id': 'byk3q31tm', 'type': 'tool_call'}], usage_metadata={'input_tokens': 783, 'output_tokens': 8192, 'total_tokens': 8975}),\n",
       "   ToolMessage(content='the temp is 25 degree and cloudy', name='search', id='3c78dbb6-1a1f-4f0f-a6ef-334d5668ddf3', tool_call_id='byk3q31tm'),\n",
       "   AIMessage(content='', additional_kwargs={'tool_calls': [{'id': 'enzd157b1', 'function': {'arguments': '{\"query\":\"Indore weather\"}', 'name': 'search'}, 'type': 'function'}]}, response_metadata={'token_usage': {'completion_tokens': 58, 'prompt_tokens': 841, 'total_tokens': 899, 'completion_time': 0.210909091, 'prompt_time': 0.061800961, 'queue_time': 0.057168439, 'total_time': 0.272710052}, 'model_name': 'deepseek-r1-distill-llama-70b', 'system_fingerprint': 'fp_1bbe7845ec', 'finish_reason': 'tool_calls', 'logprobs': None}, id='run--ee0ab46a-ca06-4b1c-81fe-9e62cfa1d026-0', tool_calls=[{'name': 'search', 'args': {'query': 'Indore weather'}, 'id': 'enzd157b1', 'type': 'tool_call'}], usage_metadata={'input_tokens': 841, 'output_tokens': 58, 'total_tokens': 899}),\n",
       "   ToolMessage(content='the temp is 25 degree and cloudy', name='search', id='8a6983df-e6ed-4a26-9797-ba2f7cded512', tool_call_id='enzd157b1'),\n",
       "   AIMessage(content='', additional_kwargs={'tool_calls': [{'id': '19cxrbxt2', 'function': {'arguments': '{\"query\":\"Indore weather\"}', 'name': 'search'}, 'type': 'function'}]}, response_metadata={'token_usage': {'completion_tokens': 8192, 'prompt_tokens': 898, 'total_tokens': 9090, 'completion_time': 29.789090909, 'prompt_time': 0.065963171, 'queue_time': 0.054219676999999994, 'total_time': 29.85505408}, 'model_name': 'deepseek-r1-distill-llama-70b', 'system_fingerprint': 'fp_1bbe7845ec', 'finish_reason': 'tool_calls', 'logprobs': None}, id='run--e4d8e740-d66b-442e-86ef-e8a1ee774ca8-0', tool_calls=[{'name': 'search', 'args': {'query': 'Indore weather'}, 'id': '19cxrbxt2', 'type': 'tool_call'}], usage_metadata={'input_tokens': 898, 'output_tokens': 8192, 'total_tokens': 9090}),\n",
       "   HumanMessage(content='in which city the temp was 25 degree?', additional_kwargs={}, response_metadata={}, id='c6d4d016-5f59-4ff6-9e15-f092f2f26b6e'),\n",
       "   AIMessage(content='The temperature was 25 degrees in **Indore**.', additional_kwargs={}, response_metadata={'token_usage': {'completion_tokens': 193, 'prompt_tokens': 936, 'total_tokens': 1129, 'completion_time': 0.94621478, 'prompt_time': 0.068458374, 'queue_time': 0.053960016, 'total_time': 1.014673154}, 'model_name': 'deepseek-r1-distill-llama-70b', 'system_fingerprint': 'fp_1bbe7845ec', 'finish_reason': 'stop', 'logprobs': None}, id='run--b75a70b5-ab53-497b-b73e-603ea5c3aae3-0', usage_metadata={'input_tokens': 936, 'output_tokens': 193, 'total_tokens': 1129})]},\n",
       " 'pending_sends': []}"
      ]
     },
     "execution_count": 69,
     "metadata": {},
     "output_type": "execute_result"
    }
   ],
   "source": [
    "memory.get(config)"
   ]
  },
  {
   "cell_type": "code",
   "execution_count": null,
   "id": "c7967618",
   "metadata": {},
   "outputs": [],
   "source": []
  }
 ],
 "metadata": {
  "kernelspec": {
   "display_name": "Python 3",
   "language": "python",
   "name": "python3"
  },
  "language_info": {
   "codemirror_mode": {
    "name": "ipython",
    "version": 3
   },
   "file_extension": ".py",
   "mimetype": "text/x-python",
   "name": "python",
   "nbconvert_exporter": "python",
   "pygments_lexer": "ipython3",
   "version": "3.10.16"
  }
 },
 "nbformat": 4,
 "nbformat_minor": 5
}
