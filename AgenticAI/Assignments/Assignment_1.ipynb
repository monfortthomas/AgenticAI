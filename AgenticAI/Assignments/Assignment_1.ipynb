{
 "cells": [
  {
   "cell_type": "code",
   "execution_count": 1,
   "id": "2000a946",
   "metadata": {},
   "outputs": [],
   "source": [
    "from langchain_community.document_loaders import PyPDFLoader"
   ]
  },
  {
   "cell_type": "code",
   "execution_count": 2,
   "id": "c105ca84",
   "metadata": {},
   "outputs": [],
   "source": [
    "FILE_PATH=r\"C:\\Monfort\\AgenticAI\\AgenticAI\\Assignments\\PlayingitMyWay.pdf\""
   ]
  },
  {
   "cell_type": "code",
   "execution_count": 3,
   "id": "c1df74e5",
   "metadata": {},
   "outputs": [],
   "source": [
    "loader=PyPDFLoader(FILE_PATH)"
   ]
  },
  {
   "cell_type": "code",
   "execution_count": 4,
   "id": "18035bb2",
   "metadata": {},
   "outputs": [
    {
     "data": {
      "text/plain": [
       "351"
      ]
     },
     "execution_count": 4,
     "metadata": {},
     "output_type": "execute_result"
    }
   ],
   "source": [
    "len(loader.load())"
   ]
  },
  {
   "cell_type": "code",
   "execution_count": 5,
   "id": "ce678d33",
   "metadata": {},
   "outputs": [],
   "source": [
    "pages=loader.load()"
   ]
  },
  {
   "cell_type": "code",
   "execution_count": 6,
   "id": "ff896219",
   "metadata": {},
   "outputs": [],
   "source": [
    "pages = []\n",
    "async for page in loader.alazy_load():\n",
    "    pages.append(page)"
   ]
  },
  {
   "cell_type": "code",
   "execution_count": 7,
   "id": "5dedd0ab",
   "metadata": {},
   "outputs": [],
   "source": [
    "from langchain_text_splitters import RecursiveCharacterTextSplitter"
   ]
  },
  {
   "cell_type": "code",
   "execution_count": 8,
   "id": "1288dd15",
   "metadata": {},
   "outputs": [],
   "source": [
    "splitter = RecursiveCharacterTextSplitter(\n",
    "    chunk_size=1500,#hyperparameter\n",
    "    chunk_overlap=100 #hyperparemeter\n",
    ")"
   ]
  },
  {
   "cell_type": "code",
   "execution_count": 9,
   "id": "4e77ac31",
   "metadata": {},
   "outputs": [],
   "source": [
    "split_docs = splitter.split_documents(pages)"
   ]
  },
  {
   "cell_type": "code",
   "execution_count": 10,
   "id": "a3b37df1",
   "metadata": {},
   "outputs": [
    {
     "data": {
      "text/plain": [
       "783"
      ]
     },
     "execution_count": 10,
     "metadata": {},
     "output_type": "execute_result"
    }
   ],
   "source": [
    "len(split_docs)"
   ]
  },
  {
   "cell_type": "code",
   "execution_count": 11,
   "id": "f24a77de",
   "metadata": {},
   "outputs": [
    {
     "name": "stderr",
     "output_type": "stream",
     "text": [
      "c:\\Monfort\\AgenticAI\\env\\lib\\site-packages\\tqdm\\auto.py:21: TqdmWarning: IProgress not found. Please update jupyter and ipywidgets. See https://ipywidgets.readthedocs.io/en/stable/user_install.html\n",
      "  from .autonotebook import tqdm as notebook_tqdm\n"
     ]
    }
   ],
   "source": [
    "from langchain_huggingface import HuggingFaceEmbeddings\n",
    "embeddings=HuggingFaceEmbeddings(model_name=\"all-MiniLM-L6-v2\")\n",
    "\n"
   ]
  },
  {
   "cell_type": "code",
   "execution_count": 36,
   "id": "6a17bac8",
   "metadata": {},
   "outputs": [],
   "source": [
    "from pymilvus import MilvusClient, CollectionSchema, FieldSchema, DataType , Collection, connections\n",
    "import os\n",
    "from dotenv import load_dotenv\n",
    "\n",
    "\n",
    "api_key = os.getenv(\"pytoken\")\n",
    "endpoint = os.getenv(\"pymilvusurl\")\n",
    "\n",
    "client = MilvusClient(\n",
    "    uri=endpoint,\n",
    "    token=api_key\n",
    ")\n"
   ]
  },
  {
   "cell_type": "code",
   "execution_count": 13,
   "id": "39435aa8",
   "metadata": {},
   "outputs": [],
   "source": [
    "collection_name = \"sachin_collection\"\n",
    "if collection_name not in client.list_collections():\n",
    "    # Define schema properly\n",
    "    schema = CollectionSchema(\n",
    "        fields=[\n",
    "            FieldSchema(name=\"id\", dtype=DataType.INT64, is_primary=True, auto_id=True),\n",
    "            FieldSchema(name=\"text\", dtype=DataType.VARCHAR, max_length=65535),\n",
    "            FieldSchema(name=\"vector\", dtype=DataType.FLOAT_VECTOR, dim=384)\n",
    "        ],\n",
    "        description=\"Sachin book embedding collection\"\n",
    "    )\n",
    "\n",
    "    client.create_collection(\n",
    "        collection_name=collection_name,\n",
    "        schema=schema\n",
    "    )\n",
    "    print(f\"Collection '{collection_name}' created successfully.\")"
   ]
  },
  {
   "cell_type": "code",
   "execution_count": 37,
   "id": "d97429a4",
   "metadata": {},
   "outputs": [
    {
     "data": {
      "text/plain": [
       "Status(code=0, message=)"
      ]
     },
     "execution_count": 37,
     "metadata": {},
     "output_type": "execute_result"
    }
   ],
   "source": [
    "\n",
    "connections.connect(\n",
    "    alias=\"default\",\n",
    "    uri=os.getenv(\"pymilvusurl\"),\n",
    "    token=os.getenv(\"pytoken\")\n",
    ")\n",
    "collection = Collection(\"sachin_collection\")\n",
    "\n",
    "# Define index parameters as a dict\n",
    "index_params = {\n",
    "    \"index_type\": \"IVF_FLAT\",\n",
    "    \"metric_type\": \"L2\",\n",
    "    \"params\": {\"nlist\": 128}\n",
    "}\n",
    "\n",
    "# Call create_index on the instance (self is passed automatically)\n",
    "collection.create_index(field_name=\"vector\", index_params=index_params)\n"
   ]
  },
  {
   "cell_type": "code",
   "execution_count": 15,
   "id": "135b87cb",
   "metadata": {},
   "outputs": [
    {
     "name": "stdout",
     "output_type": "stream",
     "text": [
      "Data successfully stored in Zilliz!\n"
     ]
    }
   ],
   "source": [
    "# Generate embeddings for the split documents\n",
    "vectors = embeddings.embed_documents([doc.page_content for doc in split_docs])\n",
    "\n",
    "data = [\n",
    "    {\"text\": split_docs[idx].page_content, \"vector\": vec}\n",
    "    for idx, vec in enumerate(vectors)\n",
    "]\n",
    "\n",
    "client.insert(\n",
    "    collection_name=\"sachin_collection\",\n",
    "    data=data\n",
    ")\n",
    "\n",
    "print(\"Data successfully stored in Zilliz!\")"
   ]
  },
  {
   "cell_type": "code",
   "execution_count": 16,
   "id": "03eca644",
   "metadata": {},
   "outputs": [
    {
     "name": "stdout",
     "output_type": "stream",
     "text": [
      "{'id': 458312172764778213, 'distance': 0.7788976430892944, 'entity': {'text': 'for him. In my debut match I scored 100 not out and in the process became the youngest Indian to\\nscore a century on his first-class debut. I finished the 1988–89 season as Mumbai’s highest run-scorer\\nand made half-centuries in six of the seven matches I played. Mumbai lost a hard-fought semi-final\\nagainst Delhi and I ended my debut season with a respectable batting average of 64.77. In the semi-\\nfinal, Madan Lal, former India fast bowler and coach, was playing for Delhi and I remember playing a\\nstraight drive to him that was much talked about that evening. It was a shot that got me noticed,\\nadding to my stock at the time. Everything about the shot was perfect – balance, head position, timing\\n– and the ball raced to the boundary.\\nMy performances for Mumbai got me selected for the season-opening Irani Trophy match at the\\nbeginning of November 1989. The Irani Trophy, between the Ranji Trophy champions and the Rest of\\nIndia, is a key component of the Indian domestic cricket calendar and is a major opportunity to get\\nnoticed. Playing for the Rest of India, I scored a hundred against Ranji champions Delhi in my first\\nIrani Trophy game and it was during this match that the Indian touring team for the much-awaited tour\\nto Pakistan in November–December 1989 was announced.\\nBefore I knew it, at sixteen years of age, I had been picked to play for India.'}}\n",
      "{'id': 458312172818617357, 'distance': 0.7788976430892944, 'entity': {'text': 'for him. In my debut match I scored 100 not out and in the process became the youngest Indian to\\nscore a century on his first-class debut. I finished the 1988–89 season as Mumbai’s highest run-scorer\\nand made half-centuries in six of the seven matches I played. Mumbai lost a hard-fought semi-final\\nagainst Delhi and I ended my debut season with a respectable batting average of 64.77. In the semi-\\nfinal, Madan Lal, former India fast bowler and coach, was playing for Delhi and I remember playing a\\nstraight drive to him that was much talked about that evening. It was a shot that got me noticed,\\nadding to my stock at the time. Everything about the shot was perfect – balance, head position, timing\\n– and the ball raced to the boundary.\\nMy performances for Mumbai got me selected for the season-opening Irani Trophy match at the\\nbeginning of November 1989. The Irani Trophy, between the Ranji Trophy champions and the Rest of\\nIndia, is a key component of the Indian domestic cricket calendar and is a major opportunity to get\\nnoticed. Playing for the Rest of India, I scored a hundred against Ranji champions Delhi in my first\\nIrani Trophy game and it was during this match that the Indian touring team for the much-awaited tour\\nto Pakistan in November–December 1989 was announced.\\nBefore I knew it, at sixteen years of age, I had been picked to play for India.'}}\n",
      "{'id': 458312172940353981, 'distance': 0.7788976430892944, 'entity': {'text': 'for him. In my debut match I scored 100 not out and in the process became the youngest Indian to\\nscore a century on his first-class debut. I finished the 1988–89 season as Mumbai’s highest run-scorer\\nand made half-centuries in six of the seven matches I played. Mumbai lost a hard-fought semi-final\\nagainst Delhi and I ended my debut season with a respectable batting average of 64.77. In the semi-\\nfinal, Madan Lal, former India fast bowler and coach, was playing for Delhi and I remember playing a\\nstraight drive to him that was much talked about that evening. It was a shot that got me noticed,\\nadding to my stock at the time. Everything about the shot was perfect – balance, head position, timing\\n– and the ball raced to the boundary.\\nMy performances for Mumbai got me selected for the season-opening Irani Trophy match at the\\nbeginning of November 1989. The Irani Trophy, between the Ranji Trophy champions and the Rest of\\nIndia, is a key component of the Indian domestic cricket calendar and is a major opportunity to get\\nnoticed. Playing for the Rest of India, I scored a hundred against Ranji champions Delhi in my first\\nIrani Trophy game and it was during this match that the Indian touring team for the much-awaited tour\\nto Pakistan in November–December 1989 was announced.\\nBefore I knew it, at sixteen years of age, I had been picked to play for India.'}}\n",
      "{'id': 458312172940363424, 'distance': 0.7788976430892944, 'entity': {'text': 'for him. In my debut match I scored 100 not out and in the process became the youngest Indian to\\nscore a century on his first-class debut. I finished the 1988–89 season as Mumbai’s highest run-scorer\\nand made half-centuries in six of the seven matches I played. Mumbai lost a hard-fought semi-final\\nagainst Delhi and I ended my debut season with a respectable batting average of 64.77. In the semi-\\nfinal, Madan Lal, former India fast bowler and coach, was playing for Delhi and I remember playing a\\nstraight drive to him that was much talked about that evening. It was a shot that got me noticed,\\nadding to my stock at the time. Everything about the shot was perfect – balance, head position, timing\\n– and the ball raced to the boundary.\\nMy performances for Mumbai got me selected for the season-opening Irani Trophy match at the\\nbeginning of November 1989. The Irani Trophy, between the Ranji Trophy champions and the Rest of\\nIndia, is a key component of the Indian domestic cricket calendar and is a major opportunity to get\\nnoticed. Playing for the Rest of India, I scored a hundred against Ranji champions Delhi in my first\\nIrani Trophy game and it was during this match that the Indian touring team for the much-awaited tour\\nto Pakistan in November–December 1989 was announced.\\nBefore I knew it, at sixteen years of age, I had been picked to play for India.'}}\n",
      "{'id': 458312172961098764, 'distance': 0.7788976430892944, 'entity': {'text': 'for him. In my debut match I scored 100 not out and in the process became the youngest Indian to\\nscore a century on his first-class debut. I finished the 1988–89 season as Mumbai’s highest run-scorer\\nand made half-centuries in six of the seven matches I played. Mumbai lost a hard-fought semi-final\\nagainst Delhi and I ended my debut season with a respectable batting average of 64.77. In the semi-\\nfinal, Madan Lal, former India fast bowler and coach, was playing for Delhi and I remember playing a\\nstraight drive to him that was much talked about that evening. It was a shot that got me noticed,\\nadding to my stock at the time. Everything about the shot was perfect – balance, head position, timing\\n– and the ball raced to the boundary.\\nMy performances for Mumbai got me selected for the season-opening Irani Trophy match at the\\nbeginning of November 1989. The Irani Trophy, between the Ranji Trophy champions and the Rest of\\nIndia, is a key component of the Indian domestic cricket calendar and is a major opportunity to get\\nnoticed. Playing for the Rest of India, I scored a hundred against Ranji champions Delhi in my first\\nIrani Trophy game and it was during this match that the Indian touring team for the much-awaited tour\\nto Pakistan in November–December 1989 was announced.\\nBefore I knew it, at sixteen years of age, I had been picked to play for India.'}}\n"
     ]
    }
   ],
   "source": [
    "# Assuming collection name and vector field are defined correctly\n",
    "collection_name = \"sachin_collection\"\n",
    "\n",
    "# Step 1: Generate the query vector\n",
    "query_vector = embeddings.embed_query(\"When did sachin made debut in Irani Trophy?\")\n",
    "\n",
    "# Step 2: Define search parameters\n",
    "search_params = {\n",
    "    \"metric_type\": \"L2\",\n",
    "    \"params\": {\"nprobe\": 10}\n",
    "}\n",
    "\n",
    "## Load the collection into memory before search\n",
    "client.load_collection(collection_name=\"sachin_collection\")\n",
    "\n",
    "# Now perform the search\n",
    "results = client.search(\n",
    "    collection_name=collection_name,\n",
    "    data=[query_vector],\n",
    "    limit=5,\n",
    "    search_params=search_params,\n",
    "    output_fields=[\"text\"],\n",
    "    vector_field=\"vector\"\n",
    ")\n",
    "\n",
    "for hit in results[0]:\n",
    "    print(hit)"
   ]
  },
  {
   "cell_type": "code",
   "execution_count": 17,
   "id": "20fd383e",
   "metadata": {},
   "outputs": [
    {
     "name": "stdout",
     "output_type": "stream",
     "text": [
      "for him. In my debut match I scored 100 not out and in the process became the youngest Indian to\n",
      "score a century on his first-class debut. I finished the 1988–89 season as Mumbai’s highest run-scorer\n",
      "and made half-centuries in six of the seven matches I played. Mumbai lost a hard-fought semi-final\n",
      "against Delhi and I ended my debut season with a respectable batting average of 64.77. In the semi-\n",
      "final, Madan Lal, former India fast bowler and coach, was playing for Delhi and I remember playing a\n",
      "straight drive to him that was much talked about that evening. It was a shot that got me noticed,\n",
      "adding to my stock at the time. Everything about the shot was perfect – balance, head position, timing\n",
      "– and the ball raced to the boundary.\n",
      "My performances for Mumbai got me selected for the season-opening Irani Trophy match at the\n",
      "beginning of November 1989. The Irani Trophy, between the Ranji Trophy champions and the Rest of\n",
      "India, is a key component of the Indian domestic cricket calendar and is a major opportunity to get\n",
      "noticed. Playing for the Rest of India, I scored a hundred against Ranji champions Delhi in my first\n",
      "Irani Trophy game and it was during this match that the Indian touring team for the much-awaited tour\n",
      "to Pakistan in November–December 1989 was announced.\n",
      "Before I knew it, at sixteen years of age, I had been picked to play for India.\n",
      "for him. In my debut match I scored 100 not out and in the process became the youngest Indian to\n",
      "score a century on his first-class debut. I finished the 1988–89 season as Mumbai’s highest run-scorer\n",
      "and made half-centuries in six of the seven matches I played. Mumbai lost a hard-fought semi-final\n",
      "against Delhi and I ended my debut season with a respectable batting average of 64.77. In the semi-\n",
      "final, Madan Lal, former India fast bowler and coach, was playing for Delhi and I remember playing a\n",
      "straight drive to him that was much talked about that evening. It was a shot that got me noticed,\n",
      "adding to my stock at the time. Everything about the shot was perfect – balance, head position, timing\n",
      "– and the ball raced to the boundary.\n",
      "My performances for Mumbai got me selected for the season-opening Irani Trophy match at the\n",
      "beginning of November 1989. The Irani Trophy, between the Ranji Trophy champions and the Rest of\n",
      "India, is a key component of the Indian domestic cricket calendar and is a major opportunity to get\n",
      "noticed. Playing for the Rest of India, I scored a hundred against Ranji champions Delhi in my first\n",
      "Irani Trophy game and it was during this match that the Indian touring team for the much-awaited tour\n",
      "to Pakistan in November–December 1989 was announced.\n",
      "Before I knew it, at sixteen years of age, I had been picked to play for India.\n",
      "for him. In my debut match I scored 100 not out and in the process became the youngest Indian to\n",
      "score a century on his first-class debut. I finished the 1988–89 season as Mumbai’s highest run-scorer\n",
      "and made half-centuries in six of the seven matches I played. Mumbai lost a hard-fought semi-final\n",
      "against Delhi and I ended my debut season with a respectable batting average of 64.77. In the semi-\n",
      "final, Madan Lal, former India fast bowler and coach, was playing for Delhi and I remember playing a\n",
      "straight drive to him that was much talked about that evening. It was a shot that got me noticed,\n",
      "adding to my stock at the time. Everything about the shot was perfect – balance, head position, timing\n",
      "– and the ball raced to the boundary.\n",
      "My performances for Mumbai got me selected for the season-opening Irani Trophy match at the\n",
      "beginning of November 1989. The Irani Trophy, between the Ranji Trophy champions and the Rest of\n",
      "India, is a key component of the Indian domestic cricket calendar and is a major opportunity to get\n",
      "noticed. Playing for the Rest of India, I scored a hundred against Ranji champions Delhi in my first\n",
      "Irani Trophy game and it was during this match that the Indian touring team for the much-awaited tour\n",
      "to Pakistan in November–December 1989 was announced.\n",
      "Before I knew it, at sixteen years of age, I had been picked to play for India.\n",
      "for him. In my debut match I scored 100 not out and in the process became the youngest Indian to\n",
      "score a century on his first-class debut. I finished the 1988–89 season as Mumbai’s highest run-scorer\n",
      "and made half-centuries in six of the seven matches I played. Mumbai lost a hard-fought semi-final\n",
      "against Delhi and I ended my debut season with a respectable batting average of 64.77. In the semi-\n",
      "final, Madan Lal, former India fast bowler and coach, was playing for Delhi and I remember playing a\n",
      "straight drive to him that was much talked about that evening. It was a shot that got me noticed,\n",
      "adding to my stock at the time. Everything about the shot was perfect – balance, head position, timing\n",
      "– and the ball raced to the boundary.\n",
      "My performances for Mumbai got me selected for the season-opening Irani Trophy match at the\n",
      "beginning of November 1989. The Irani Trophy, between the Ranji Trophy champions and the Rest of\n",
      "India, is a key component of the Indian domestic cricket calendar and is a major opportunity to get\n",
      "noticed. Playing for the Rest of India, I scored a hundred against Ranji champions Delhi in my first\n",
      "Irani Trophy game and it was during this match that the Indian touring team for the much-awaited tour\n",
      "to Pakistan in November–December 1989 was announced.\n",
      "Before I knew it, at sixteen years of age, I had been picked to play for India.\n",
      "for him. In my debut match I scored 100 not out and in the process became the youngest Indian to\n",
      "score a century on his first-class debut. I finished the 1988–89 season as Mumbai’s highest run-scorer\n",
      "and made half-centuries in six of the seven matches I played. Mumbai lost a hard-fought semi-final\n",
      "against Delhi and I ended my debut season with a respectable batting average of 64.77. In the semi-\n",
      "final, Madan Lal, former India fast bowler and coach, was playing for Delhi and I remember playing a\n",
      "straight drive to him that was much talked about that evening. It was a shot that got me noticed,\n",
      "adding to my stock at the time. Everything about the shot was perfect – balance, head position, timing\n",
      "– and the ball raced to the boundary.\n",
      "My performances for Mumbai got me selected for the season-opening Irani Trophy match at the\n",
      "beginning of November 1989. The Irani Trophy, between the Ranji Trophy champions and the Rest of\n",
      "India, is a key component of the Indian domestic cricket calendar and is a major opportunity to get\n",
      "noticed. Playing for the Rest of India, I scored a hundred against Ranji champions Delhi in my first\n",
      "Irani Trophy game and it was during this match that the Indian touring team for the much-awaited tour\n",
      "to Pakistan in November–December 1989 was announced.\n",
      "Before I knew it, at sixteen years of age, I had been picked to play for India.\n"
     ]
    }
   ],
   "source": [
    "def retriever(query, top_k=5):\n",
    "        query_vector = embeddings.embed_query(query)\n",
    "        search_params = {\"metric_type\": \"L2\", \"params\": {\"nprobe\": 10}}\n",
    "        \n",
    "        results = client.search(\n",
    "            collection_name= collection_name,\n",
    "            data=[query_vector],\n",
    "            limit=top_k,\n",
    "            search_params=search_params,\n",
    "            output_fields=[\"text\"],\n",
    "            vector_field=\"vector\"\n",
    "        )\n",
    "        \n",
    "        return [hit[\"text\"] for hit in results[0]]\n",
    "\n",
    "\n",
    "docs = retriever(\"When did sachin made debut in Irani Trophy\")\n",
    "for doc in docs:\n",
    "    print(doc)\n"
   ]
  },
  {
   "cell_type": "code",
   "execution_count": 18,
   "id": "0c3f9e79",
   "metadata": {},
   "outputs": [
    {
     "name": "stdout",
     "output_type": "stream",
     "text": [
      "for him. In my debut match I scored 100 not out and in the process became the youngest Indian to\n",
      "score a century on his first-class debut. I finished the 1988–89 season as Mumbai’s highest run-scorer\n",
      "and made half-centuries in six of the seven matches I played. Mumbai lost a hard-fought semi-final\n",
      "against Delhi and I ended my debut season with a respectable batting average of 64.77. In the semi-\n",
      "final, Madan Lal, former India fast bowler and coach, was playing for Delhi and I remember playing a\n",
      "straight drive to him that was much talked about that evening. It was a shot that got me noticed,\n",
      "adding to my stock at the time. Everything about the shot was perfect – balance, head position, timing\n",
      "– and the ball raced to the boundary.\n",
      "My performances for Mumbai got me selected for the season-opening Irani Trophy match at the\n",
      "beginning of November 1989. The Irani Trophy, between the Ranji Trophy champions and the Rest of\n",
      "India, is a key component of the Indian domestic cricket calendar and is a major opportunity to get\n",
      "noticed. Playing for the Rest of India, I scored a hundred against Ranji champions Delhi in my first\n",
      "Irani Trophy game and it was during this match that the Indian touring team for the much-awaited tour\n",
      "to Pakistan in November–December 1989 was announced.\n",
      "Before I knew it, at sixteen years of age, I had been picked to play for India.\n",
      "3\n",
      "MY FIRST TOUR\n",
      "I had always dreamed of playing cricket for India. Getting an opportunity to fulfil my dream at such\n",
      "an early age was indeed very special. What made it even more significant was that we were playing\n",
      "Pakistan in Pakistan and their bowling attack included fast bowlers of the quality of Imran Khan,\n",
      "Wasim Akram, Waqar Younis and Aaqib Javed, not to mention the leg-spinners Mushtaq Ahmed and\n",
      "Abdul Qadir – quite a test for any debutant.\n",
      "It was baptism by fire. So much so that after my very first innings in Test cricket, during which I\n",
      "was all at sea against Wasim and Waqar, I began to doubt my ability to bat and questioned whether I\n",
      "was ever going to be good enough to play at international level.\n",
      "Before describing my debut series, I want to go back to that first Irani Trophy game for the Rest of\n",
      "India against Delhi. I had scored 39 in the first innings before I was bowled by Maninder Singh,\n",
      "India’s ace left-arm spinner at the time. The disappointment did not last long, however, because it was\n",
      "that evening when I learned I had been named in the Indian squad for the Pakistan tour. Ecstatic at my\n",
      "inclusion, I was determined to make a mark in the second innings.\n",
      "The occasion was particularly special because my brother had come to see me play. In fact, since I\n",
      "was a minor and could not sign the tour contract, Ajit had to sign it on my behalf. Vasu Paranjpe had\n",
      "also mentioned to my father that morning that I would surely get a hundred and said that he should\n",
      "turned out to be bouncers, and at the end of the over I said to myself, ‘Welcome to Test cricket.’ Not\n",
      "without reason is it acknowledged as the most challenging format of the game.\n",
      "My stay at the crease was short and not sweet. I had lasted only twenty-four balls, at least half of\n",
      "which I had missed. I had hit two boundaries but not for a moment had I felt comfortable. It was only\n",
      "a matter of time before I was dismissed. I was finally bowled for a rather lucky 15 by another\n",
      "debutant, Waqar Younis, and on my way back to the pavilion my mind was riddled with self-doubt.\n",
      "It was a very important moment in my career. I had come to the international stage after blazing my\n",
      "way through domestic cricket. I had managed to score a hundred on debut in the Ranji and Irani\n",
      "trophies, but here I was on the international stage unable to put bat on ball. I was struggling, plain and\n",
      "simple. The difference in standard between domestic and international cricket was colossal.\n",
      "I batted only once in that first Test match, which ended in a draw, and in the following days I\n",
      "approached our coach, Chandu Borde, and a number of senior team-mates to discuss what I needed to\n",
      "do to improve. I had a long chat with Ravi Shastri, already an established star at the time, who advised\n",
      "me to be patient for the first fifteen or twenty minutes, which were bound to be uncomfortable. Ravi\n",
      "was of the opinion that once I had played out the initial burst from the Pakistani bowlers, things would\n",
      "for Test cricket, and arguably not fifty-over one-day cricket, for they require completely different skill\n",
      "sets. For those formats, selectors should continue to look at performances in the Ranji and Duleep\n",
      "trophies, the Irani Trophy and other domestic competitions.\n",
      "Rewarding our past stars\n",
      "One of the best legacies of the IPL is that it has allowed the BCCI to reward former cricketers who\n",
      "played for India at a time when there wasn’t much money on offer. While every player in the IPL is\n",
      "assured of a decent standard of living, many former Indian greats had to suffer hardship in old age. In\n",
      "a fantastic gesture during the fifth season of the IPL in May 2012, the BCCI decided to use the\n",
      "revenues generated by the competition to reward every player who had ever played for India. Even\n"
     ]
    },
    {
     "name": "stderr",
     "output_type": "stream",
     "text": [
      "C:\\Users\\monfo\\AppData\\Local\\Temp\\ipykernel_11824\\3315823751.py:10: LangChainDeprecationWarning: The method `BaseRetriever.get_relevant_documents` was deprecated in langchain-core 0.1.46 and will be removed in 1.0. Use :meth:`~invoke` instead.\n",
      "  top_docs = bm25_retriever.get_relevant_documents(query)\n"
     ]
    }
   ],
   "source": [
    "###BM25\n",
    "\n",
    "from langchain.retrievers import BM25Retriever\n",
    "\n",
    "# Create a BM25 retriever from your list of documents\n",
    "bm25_retriever = BM25Retriever.from_documents(split_docs)\n",
    "\n",
    "# Retrieve top relevant docs based on BM25 scoring\n",
    "query = \"when did sachin made debut in Irani trophy?\"\n",
    "top_docs = bm25_retriever.get_relevant_documents(query)\n",
    "\n",
    "# Print top-ranked results\n",
    "for doc in top_docs:\n",
    "    print(doc.page_content)\n"
   ]
  },
  {
   "cell_type": "code",
   "execution_count": 19,
   "id": "f70f0762",
   "metadata": {},
   "outputs": [],
   "source": [
    "from langchain import hub\n",
    "prompt = hub.pull(\"rlm/rag-prompt\")"
   ]
  },
  {
   "cell_type": "code",
   "execution_count": 20,
   "id": "17c775a6",
   "metadata": {},
   "outputs": [],
   "source": [
    "import pprint"
   ]
  },
  {
   "cell_type": "code",
   "execution_count": 21,
   "id": "ae61b822",
   "metadata": {},
   "outputs": [
    {
     "name": "stdout",
     "output_type": "stream",
     "text": [
      "[HumanMessagePromptTemplate(prompt=PromptTemplate(input_variables=['context', 'question'], input_types={}, partial_variables={}, template=\"You are an assistant for question-answering tasks. Use the following pieces of retrieved context to answer the question. If you don't know the answer, just say that you don't know. Use three sentences maximum and keep the answer concise.\\nQuestion: {question} \\nContext: {context} \\nAnswer:\"), additional_kwargs={})]\n"
     ]
    }
   ],
   "source": [
    "pprint.pprint(prompt.messages)"
   ]
  },
  {
   "cell_type": "code",
   "execution_count": 22,
   "id": "dc8daaf1",
   "metadata": {},
   "outputs": [],
   "source": [
    "# from langchain.prompts import ChatPromptTemplate\n",
    "# # Custom prompt\n",
    "# prompt = ChatPromptTemplate.from_template(\n",
    "#     \"\"\"You are a helpful assistant for answering questions using provided context.\n",
    "\n",
    "# Use the following context to answer the question. If the answer is not contained in the context, say \"I don't know\".\n",
    "\n",
    "# Context:\n",
    "# {context}\n",
    "\n",
    "# Question:\n",
    "# {question}\n",
    "\n",
    "# Answer:\"\"\"\n",
    "# )"
   ]
  },
  {
   "cell_type": "code",
   "execution_count": 23,
   "id": "203f9e2e",
   "metadata": {},
   "outputs": [],
   "source": [
    "import os\n",
    "os.environ[\"GOOGLE_API_KEY\"] = os.getenv(\"GOOGLE_API_KEY\")\n",
    "\n",
    "\n",
    "from langchain_google_genai import ChatGoogleGenerativeAI\n",
    "model=ChatGoogleGenerativeAI(model='gemini-1.5-flash')"
   ]
  },
  {
   "cell_type": "code",
   "execution_count": 24,
   "id": "79fce6e8",
   "metadata": {},
   "outputs": [],
   "source": [
    "from langchain_core.output_parsers import StrOutputParser\n",
    "from langchain_core.runnables import RunnablePassthrough, RunnableLambda"
   ]
  },
  {
   "cell_type": "code",
   "execution_count": 25,
   "id": "81dd827f",
   "metadata": {},
   "outputs": [],
   "source": [
    "def format_docs(docs):\n",
    "    return \"\\n\\n\".join(doc for doc in docs)\n",
    "    \n",
    "    "
   ]
  },
  {
   "cell_type": "code",
   "execution_count": 26,
   "id": "f8f0f470",
   "metadata": {},
   "outputs": [],
   "source": [
    "retriever_runnable = RunnableLambda(retriever)\n",
    "format_docs_runnable = RunnableLambda(format_docs)  \n",
    "\n",
    "# Compose the RAG chain\n",
    "rag_chain = (\n",
    "    {\"context\": retriever_runnable | format_docs_runnable, \"question\": RunnablePassthrough()}\n",
    "    | prompt\n",
    "    | model\n",
    "    | StrOutputParser()\n",
    ")"
   ]
  },
  {
   "cell_type": "code",
   "execution_count": 27,
   "id": "1c2281c7",
   "metadata": {},
   "outputs": [
    {
     "name": "stdout",
     "output_type": "stream",
     "text": [
      "Answer: Sachin made his Irani Trophy debut at the beginning of November 1989.  He played for the Rest of India and scored a century against Delhi.  This was also when he was selected for the Indian team touring Pakistan.\n"
     ]
    }
   ],
   "source": [
    "\n",
    "question = \"When did sachin made debut in Irani Trophy?\"\n",
    "answer = rag_chain.invoke(question)\n",
    "print(\"Answer:\", answer)"
   ]
  },
  {
   "cell_type": "code",
   "execution_count": 28,
   "id": "c0b873ca",
   "metadata": {},
   "outputs": [
    {
     "name": "stdout",
     "output_type": "stream",
     "text": [
      "Document successfully saved as retrieved_results.docx!\n"
     ]
    }
   ],
   "source": [
    "from docx import Document\n",
    "\n",
    "# Create a new Word document\n",
    "doc = Document()\n",
    "doc.add_heading(\"Retrieved Documents\", level=1)\n",
    "\n",
    "doc.add_paragraph(answer)\n",
    "\n",
    "# Save the document\n",
    "doc.save(\"Results.docx\")\n",
    "\n",
    "print(\"Document successfully saved as retrieved_results.docx!\")"
   ]
  }
 ],
 "metadata": {
  "kernelspec": {
   "display_name": "Python 3",
   "language": "python",
   "name": "python3"
  },
  "language_info": {
   "codemirror_mode": {
    "name": "ipython",
    "version": 3
   },
   "file_extension": ".py",
   "mimetype": "text/x-python",
   "name": "python",
   "nbconvert_exporter": "python",
   "pygments_lexer": "ipython3",
   "version": "3.10.16"
  }
 },
 "nbformat": 4,
 "nbformat_minor": 5
}
